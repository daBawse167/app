{
 "cells": [
  {
   "cell_type": "markdown",
   "metadata": {},
   "source": [
    "# Import Libs"
   ]
  },
  {
   "cell_type": "code",
   "execution_count": 1,
   "metadata": {
    "ExecuteTime": {
     "end_time": "2020-09-21T10:22:19.677700Z",
     "start_time": "2020-09-21T10:22:19.590598Z"
    }
   },
   "outputs": [
    {
     "data": {
      "application/javascript": [
       "if (!(\"Notification\" in window)) {\n",
       "    alert(\"This browser does not support desktop notifications, so the %%notify magic will not work.\");\n",
       "} else if (Notification.permission !== 'granted' && Notification.permission !== 'denied') {\n",
       "    Notification.requestPermission(function (permission) {\n",
       "        if(!('permission' in Notification)) {\n",
       "            Notification.permission = permission;\n",
       "        }\n",
       "    })\n",
       "}\n"
      ],
      "text/plain": [
       "<IPython.core.display.Javascript object>"
      ]
     },
     "metadata": {},
     "output_type": "display_data"
    }
   ],
   "source": [
    "import os\n",
    "import matplotlib.pyplot as plt\n",
    "import pandas as pd\n",
    "import seaborn as sns\n",
    "import numpy as np\n",
    "\n",
    "from IPython.core.interactiveshell import InteractiveShell\n",
    "InteractiveShell.ast_node_interactivity = \"all\"\n",
    "import jupyternotify\n",
    "ip = get_ipython()\n",
    "ip.register_magics(jupyternotify.JupyterNotifyMagics)"
   ]
  },
  {
   "cell_type": "markdown",
   "metadata": {},
   "source": [
    "# Load data"
   ]
  },
  {
   "cell_type": "code",
   "execution_count": 2,
   "metadata": {
    "ExecuteTime": {
     "end_time": "2020-09-21T07:53:37.983749Z",
     "start_time": "2020-09-21T07:53:37.974904Z"
    }
   },
   "outputs": [],
   "source": [
    "url_to_covid = 'https://covid.ourworldindata.org/data/owid-covid-data.csv'"
   ]
  },
  {
   "cell_type": "code",
   "execution_count": 3,
   "metadata": {
    "ExecuteTime": {
     "end_time": "2020-09-21T07:54:03.648832Z",
     "start_time": "2020-09-21T07:53:37.989681Z"
    }
   },
   "outputs": [],
   "source": [
    "df_orig = pd.read_csv(url_to_covid)"
   ]
  },
  {
   "cell_type": "markdown",
   "metadata": {},
   "source": [
    "# Understand structure"
   ]
  },
  {
   "cell_type": "code",
   "execution_count": 4,
   "metadata": {
    "ExecuteTime": {
     "end_time": "2020-09-21T07:54:03.665715Z",
     "start_time": "2020-09-21T07:54:03.650783Z"
    },
    "scrolled": true
   },
   "outputs": [
    {
     "data": {
      "text/plain": [
       "array(['Afghanistan', 'Africa', 'Albania', 'Algeria', 'Andorra', 'Angola',\n",
       "       'Anguilla', 'Antigua and Barbuda', 'Argentina', 'Armenia', 'Aruba',\n",
       "       'Asia', 'Australia', 'Austria', 'Azerbaijan', 'Bahamas', 'Bahrain',\n",
       "       'Bangladesh', 'Barbados', 'Belarus', 'Belgium', 'Belize', 'Benin',\n",
       "       'Bermuda', 'Bhutan', 'Bolivia', 'Bonaire Sint Eustatius and Saba',\n",
       "       'Bosnia and Herzegovina', 'Botswana', 'Brazil',\n",
       "       'British Virgin Islands', 'Brunei', 'Bulgaria', 'Burkina Faso',\n",
       "       'Burundi', 'Cambodia', 'Cameroon', 'Canada', 'Cape Verde',\n",
       "       'Cayman Islands', 'Central African Republic', 'Chad', 'Chile',\n",
       "       'China', 'Colombia', 'Comoros', 'Congo', 'Cook Islands',\n",
       "       'Costa Rica', \"Cote d'Ivoire\", 'Croatia', 'Cuba', 'Curacao',\n",
       "       'Cyprus', 'Czechia', 'Democratic Republic of Congo', 'Denmark',\n",
       "       'Djibouti', 'Dominica', 'Dominican Republic', 'Ecuador', 'Egypt',\n",
       "       'El Salvador', 'Equatorial Guinea', 'Eritrea', 'Estonia',\n",
       "       'Eswatini', 'Ethiopia', 'Europe', 'European Union',\n",
       "       'Faeroe Islands', 'Falkland Islands', 'Fiji', 'Finland', 'France',\n",
       "       'French Polynesia', 'Gabon', 'Gambia', 'Georgia', 'Germany',\n",
       "       'Ghana', 'Gibraltar', 'Greece', 'Greenland', 'Grenada',\n",
       "       'Guatemala', 'Guernsey', 'Guinea', 'Guinea-Bissau', 'Guyana',\n",
       "       'Haiti', 'Honduras', 'Hong Kong', 'Hungary', 'Iceland', 'India',\n",
       "       'Indonesia', 'International', 'Iran', 'Iraq', 'Ireland',\n",
       "       'Isle of Man', 'Israel', 'Italy', 'Jamaica', 'Japan', 'Jersey',\n",
       "       'Jordan', 'Kazakhstan', 'Kenya', 'Kiribati', 'Kosovo', 'Kuwait',\n",
       "       'Kyrgyzstan', 'Laos', 'Latvia', 'Lebanon', 'Lesotho', 'Liberia',\n",
       "       'Libya', 'Liechtenstein', 'Lithuania', 'Luxembourg', 'Macao',\n",
       "       'Madagascar', 'Malawi', 'Malaysia', 'Maldives', 'Mali', 'Malta',\n",
       "       'Marshall Islands', 'Mauritania', 'Mauritius', 'Mexico',\n",
       "       'Micronesia (country)', 'Moldova', 'Monaco', 'Mongolia',\n",
       "       'Montenegro', 'Montserrat', 'Morocco', 'Mozambique', 'Myanmar',\n",
       "       'Namibia', 'Nauru', 'Nepal', 'Netherlands', 'New Caledonia',\n",
       "       'New Zealand', 'Nicaragua', 'Niger', 'Nigeria', 'Niue',\n",
       "       'North America', 'North Macedonia', 'Northern Cyprus', 'Norway',\n",
       "       'Oceania', 'Oman', 'Pakistan', 'Palau', 'Palestine', 'Panama',\n",
       "       'Papua New Guinea', 'Paraguay', 'Peru', 'Philippines', 'Pitcairn',\n",
       "       'Poland', 'Portugal', 'Qatar', 'Romania', 'Russia', 'Rwanda',\n",
       "       'Saint Helena', 'Saint Kitts and Nevis', 'Saint Lucia',\n",
       "       'Saint Vincent and the Grenadines', 'Samoa', 'San Marino',\n",
       "       'Sao Tome and Principe', 'Saudi Arabia', 'Senegal', 'Serbia',\n",
       "       'Seychelles', 'Sierra Leone', 'Singapore',\n",
       "       'Sint Maarten (Dutch part)', 'Slovakia', 'Slovenia',\n",
       "       'Solomon Islands', 'Somalia', 'South Africa', 'South America',\n",
       "       'South Korea', 'South Sudan', 'Spain', 'Sri Lanka', 'Sudan',\n",
       "       'Suriname', 'Sweden', 'Switzerland', 'Syria', 'Taiwan',\n",
       "       'Tajikistan', 'Tanzania', 'Thailand', 'Timor', 'Togo', 'Tokelau',\n",
       "       'Tonga', 'Trinidad and Tobago', 'Tunisia', 'Turkey',\n",
       "       'Turkmenistan', 'Turks and Caicos Islands', 'Tuvalu', 'Uganda',\n",
       "       'Ukraine', 'United Arab Emirates', 'United Kingdom',\n",
       "       'United States', 'Uruguay', 'Uzbekistan', 'Vanuatu', 'Vatican',\n",
       "       'Venezuela', 'Vietnam', 'Wallis and Futuna', 'World', 'Yemen',\n",
       "       'Zambia', 'Zimbabwe'], dtype=object)"
      ]
     },
     "execution_count": 4,
     "metadata": {},
     "output_type": "execute_result"
    }
   ],
   "source": [
    "df_orig.location.unique()"
   ]
  },
  {
   "cell_type": "code",
   "execution_count": 5,
   "metadata": {
    "ExecuteTime": {
     "end_time": "2020-09-21T07:54:03.677531Z",
     "start_time": "2020-09-21T07:54:03.668276Z"
    }
   },
   "outputs": [],
   "source": [
    "df = df_orig[df_orig.location == 'Austria']"
   ]
  },
  {
   "cell_type": "code",
   "execution_count": 6,
   "metadata": {
    "ExecuteTime": {
     "end_time": "2020-09-21T07:54:03.739544Z",
     "start_time": "2020-09-21T07:54:03.680429Z"
    }
   },
   "outputs": [
    {
     "data": {
      "text/html": [
       "<div>\n",
       "<style scoped>\n",
       "    .dataframe tbody tr th:only-of-type {\n",
       "        vertical-align: middle;\n",
       "    }\n",
       "\n",
       "    .dataframe tbody tr th {\n",
       "        vertical-align: top;\n",
       "    }\n",
       "\n",
       "    .dataframe thead th {\n",
       "        text-align: right;\n",
       "    }\n",
       "</style>\n",
       "<table border=\"1\" class=\"dataframe\">\n",
       "  <thead>\n",
       "    <tr style=\"text-align: right;\">\n",
       "      <th></th>\n",
       "      <th>iso_code</th>\n",
       "      <th>continent</th>\n",
       "      <th>location</th>\n",
       "      <th>date</th>\n",
       "      <th>total_cases</th>\n",
       "      <th>new_cases</th>\n",
       "      <th>new_cases_smoothed</th>\n",
       "      <th>total_deaths</th>\n",
       "      <th>new_deaths</th>\n",
       "      <th>new_deaths_smoothed</th>\n",
       "      <th>...</th>\n",
       "      <th>female_smokers</th>\n",
       "      <th>male_smokers</th>\n",
       "      <th>handwashing_facilities</th>\n",
       "      <th>hospital_beds_per_thousand</th>\n",
       "      <th>life_expectancy</th>\n",
       "      <th>human_development_index</th>\n",
       "      <th>excess_mortality_cumulative_absolute</th>\n",
       "      <th>excess_mortality_cumulative</th>\n",
       "      <th>excess_mortality</th>\n",
       "      <th>excess_mortality_cumulative_per_million</th>\n",
       "    </tr>\n",
       "  </thead>\n",
       "  <tbody>\n",
       "    <tr>\n",
       "      <th>7230</th>\n",
       "      <td>AUT</td>\n",
       "      <td>Europe</td>\n",
       "      <td>Austria</td>\n",
       "      <td>2020-02-25</td>\n",
       "      <td>2.0</td>\n",
       "      <td>2.0</td>\n",
       "      <td>NaN</td>\n",
       "      <td>NaN</td>\n",
       "      <td>NaN</td>\n",
       "      <td>NaN</td>\n",
       "      <td>...</td>\n",
       "      <td>28.4</td>\n",
       "      <td>30.9</td>\n",
       "      <td>NaN</td>\n",
       "      <td>7.37</td>\n",
       "      <td>81.54</td>\n",
       "      <td>0.922</td>\n",
       "      <td>NaN</td>\n",
       "      <td>NaN</td>\n",
       "      <td>NaN</td>\n",
       "      <td>NaN</td>\n",
       "    </tr>\n",
       "    <tr>\n",
       "      <th>7231</th>\n",
       "      <td>AUT</td>\n",
       "      <td>Europe</td>\n",
       "      <td>Austria</td>\n",
       "      <td>2020-02-26</td>\n",
       "      <td>2.0</td>\n",
       "      <td>0.0</td>\n",
       "      <td>NaN</td>\n",
       "      <td>NaN</td>\n",
       "      <td>NaN</td>\n",
       "      <td>NaN</td>\n",
       "      <td>...</td>\n",
       "      <td>28.4</td>\n",
       "      <td>30.9</td>\n",
       "      <td>NaN</td>\n",
       "      <td>7.37</td>\n",
       "      <td>81.54</td>\n",
       "      <td>0.922</td>\n",
       "      <td>NaN</td>\n",
       "      <td>NaN</td>\n",
       "      <td>NaN</td>\n",
       "      <td>NaN</td>\n",
       "    </tr>\n",
       "    <tr>\n",
       "      <th>7232</th>\n",
       "      <td>AUT</td>\n",
       "      <td>Europe</td>\n",
       "      <td>Austria</td>\n",
       "      <td>2020-02-27</td>\n",
       "      <td>3.0</td>\n",
       "      <td>1.0</td>\n",
       "      <td>NaN</td>\n",
       "      <td>NaN</td>\n",
       "      <td>NaN</td>\n",
       "      <td>NaN</td>\n",
       "      <td>...</td>\n",
       "      <td>28.4</td>\n",
       "      <td>30.9</td>\n",
       "      <td>NaN</td>\n",
       "      <td>7.37</td>\n",
       "      <td>81.54</td>\n",
       "      <td>0.922</td>\n",
       "      <td>NaN</td>\n",
       "      <td>NaN</td>\n",
       "      <td>NaN</td>\n",
       "      <td>NaN</td>\n",
       "    </tr>\n",
       "    <tr>\n",
       "      <th>7233</th>\n",
       "      <td>AUT</td>\n",
       "      <td>Europe</td>\n",
       "      <td>Austria</td>\n",
       "      <td>2020-02-28</td>\n",
       "      <td>3.0</td>\n",
       "      <td>0.0</td>\n",
       "      <td>NaN</td>\n",
       "      <td>NaN</td>\n",
       "      <td>NaN</td>\n",
       "      <td>NaN</td>\n",
       "      <td>...</td>\n",
       "      <td>28.4</td>\n",
       "      <td>30.9</td>\n",
       "      <td>NaN</td>\n",
       "      <td>7.37</td>\n",
       "      <td>81.54</td>\n",
       "      <td>0.922</td>\n",
       "      <td>NaN</td>\n",
       "      <td>NaN</td>\n",
       "      <td>NaN</td>\n",
       "      <td>NaN</td>\n",
       "    </tr>\n",
       "    <tr>\n",
       "      <th>7234</th>\n",
       "      <td>AUT</td>\n",
       "      <td>Europe</td>\n",
       "      <td>Austria</td>\n",
       "      <td>2020-02-29</td>\n",
       "      <td>9.0</td>\n",
       "      <td>6.0</td>\n",
       "      <td>NaN</td>\n",
       "      <td>NaN</td>\n",
       "      <td>NaN</td>\n",
       "      <td>NaN</td>\n",
       "      <td>...</td>\n",
       "      <td>28.4</td>\n",
       "      <td>30.9</td>\n",
       "      <td>NaN</td>\n",
       "      <td>7.37</td>\n",
       "      <td>81.54</td>\n",
       "      <td>0.922</td>\n",
       "      <td>NaN</td>\n",
       "      <td>NaN</td>\n",
       "      <td>NaN</td>\n",
       "      <td>NaN</td>\n",
       "    </tr>\n",
       "    <tr>\n",
       "      <th>...</th>\n",
       "      <td>...</td>\n",
       "      <td>...</td>\n",
       "      <td>...</td>\n",
       "      <td>...</td>\n",
       "      <td>...</td>\n",
       "      <td>...</td>\n",
       "      <td>...</td>\n",
       "      <td>...</td>\n",
       "      <td>...</td>\n",
       "      <td>...</td>\n",
       "      <td>...</td>\n",
       "      <td>...</td>\n",
       "      <td>...</td>\n",
       "      <td>...</td>\n",
       "      <td>...</td>\n",
       "      <td>...</td>\n",
       "      <td>...</td>\n",
       "      <td>...</td>\n",
       "      <td>...</td>\n",
       "      <td>...</td>\n",
       "      <td>...</td>\n",
       "    </tr>\n",
       "    <tr>\n",
       "      <th>7833</th>\n",
       "      <td>AUT</td>\n",
       "      <td>Europe</td>\n",
       "      <td>Austria</td>\n",
       "      <td>2021-10-20</td>\n",
       "      <td>783996.0</td>\n",
       "      <td>3727.0</td>\n",
       "      <td>2493.429</td>\n",
       "      <td>11209.0</td>\n",
       "      <td>13.0</td>\n",
       "      <td>10.571</td>\n",
       "      <td>...</td>\n",
       "      <td>28.4</td>\n",
       "      <td>30.9</td>\n",
       "      <td>NaN</td>\n",
       "      <td>7.37</td>\n",
       "      <td>81.54</td>\n",
       "      <td>0.922</td>\n",
       "      <td>NaN</td>\n",
       "      <td>NaN</td>\n",
       "      <td>NaN</td>\n",
       "      <td>NaN</td>\n",
       "    </tr>\n",
       "    <tr>\n",
       "      <th>7834</th>\n",
       "      <td>AUT</td>\n",
       "      <td>Europe</td>\n",
       "      <td>Austria</td>\n",
       "      <td>2021-10-21</td>\n",
       "      <td>787644.0</td>\n",
       "      <td>3648.0</td>\n",
       "      <td>2704.714</td>\n",
       "      <td>11220.0</td>\n",
       "      <td>11.0</td>\n",
       "      <td>11.000</td>\n",
       "      <td>...</td>\n",
       "      <td>28.4</td>\n",
       "      <td>30.9</td>\n",
       "      <td>NaN</td>\n",
       "      <td>7.37</td>\n",
       "      <td>81.54</td>\n",
       "      <td>0.922</td>\n",
       "      <td>NaN</td>\n",
       "      <td>NaN</td>\n",
       "      <td>NaN</td>\n",
       "      <td>NaN</td>\n",
       "    </tr>\n",
       "    <tr>\n",
       "      <th>7835</th>\n",
       "      <td>AUT</td>\n",
       "      <td>Europe</td>\n",
       "      <td>Austria</td>\n",
       "      <td>2021-10-22</td>\n",
       "      <td>791226.0</td>\n",
       "      <td>3582.0</td>\n",
       "      <td>2869.000</td>\n",
       "      <td>11233.0</td>\n",
       "      <td>13.0</td>\n",
       "      <td>11.714</td>\n",
       "      <td>...</td>\n",
       "      <td>28.4</td>\n",
       "      <td>30.9</td>\n",
       "      <td>NaN</td>\n",
       "      <td>7.37</td>\n",
       "      <td>81.54</td>\n",
       "      <td>0.922</td>\n",
       "      <td>NaN</td>\n",
       "      <td>NaN</td>\n",
       "      <td>NaN</td>\n",
       "      <td>NaN</td>\n",
       "    </tr>\n",
       "    <tr>\n",
       "      <th>7836</th>\n",
       "      <td>AUT</td>\n",
       "      <td>Europe</td>\n",
       "      <td>Austria</td>\n",
       "      <td>2021-10-23</td>\n",
       "      <td>794982.0</td>\n",
       "      <td>3756.0</td>\n",
       "      <td>3063.143</td>\n",
       "      <td>11245.0</td>\n",
       "      <td>12.0</td>\n",
       "      <td>12.000</td>\n",
       "      <td>...</td>\n",
       "      <td>28.4</td>\n",
       "      <td>30.9</td>\n",
       "      <td>NaN</td>\n",
       "      <td>7.37</td>\n",
       "      <td>81.54</td>\n",
       "      <td>0.922</td>\n",
       "      <td>NaN</td>\n",
       "      <td>NaN</td>\n",
       "      <td>NaN</td>\n",
       "      <td>NaN</td>\n",
       "    </tr>\n",
       "    <tr>\n",
       "      <th>7837</th>\n",
       "      <td>AUT</td>\n",
       "      <td>Europe</td>\n",
       "      <td>Austria</td>\n",
       "      <td>2021-10-24</td>\n",
       "      <td>798606.0</td>\n",
       "      <td>3624.0</td>\n",
       "      <td>3260.571</td>\n",
       "      <td>11251.0</td>\n",
       "      <td>6.0</td>\n",
       "      <td>12.000</td>\n",
       "      <td>...</td>\n",
       "      <td>28.4</td>\n",
       "      <td>30.9</td>\n",
       "      <td>NaN</td>\n",
       "      <td>7.37</td>\n",
       "      <td>81.54</td>\n",
       "      <td>0.922</td>\n",
       "      <td>NaN</td>\n",
       "      <td>NaN</td>\n",
       "      <td>NaN</td>\n",
       "      <td>NaN</td>\n",
       "    </tr>\n",
       "  </tbody>\n",
       "</table>\n",
       "<p>608 rows × 65 columns</p>\n",
       "</div>"
      ],
      "text/plain": [
       "     iso_code continent location        date  total_cases  new_cases  \\\n",
       "7230      AUT    Europe  Austria  2020-02-25          2.0        2.0   \n",
       "7231      AUT    Europe  Austria  2020-02-26          2.0        0.0   \n",
       "7232      AUT    Europe  Austria  2020-02-27          3.0        1.0   \n",
       "7233      AUT    Europe  Austria  2020-02-28          3.0        0.0   \n",
       "7234      AUT    Europe  Austria  2020-02-29          9.0        6.0   \n",
       "...       ...       ...      ...         ...          ...        ...   \n",
       "7833      AUT    Europe  Austria  2021-10-20     783996.0     3727.0   \n",
       "7834      AUT    Europe  Austria  2021-10-21     787644.0     3648.0   \n",
       "7835      AUT    Europe  Austria  2021-10-22     791226.0     3582.0   \n",
       "7836      AUT    Europe  Austria  2021-10-23     794982.0     3756.0   \n",
       "7837      AUT    Europe  Austria  2021-10-24     798606.0     3624.0   \n",
       "\n",
       "      new_cases_smoothed  total_deaths  new_deaths  new_deaths_smoothed  ...  \\\n",
       "7230                 NaN           NaN         NaN                  NaN  ...   \n",
       "7231                 NaN           NaN         NaN                  NaN  ...   \n",
       "7232                 NaN           NaN         NaN                  NaN  ...   \n",
       "7233                 NaN           NaN         NaN                  NaN  ...   \n",
       "7234                 NaN           NaN         NaN                  NaN  ...   \n",
       "...                  ...           ...         ...                  ...  ...   \n",
       "7833            2493.429       11209.0        13.0               10.571  ...   \n",
       "7834            2704.714       11220.0        11.0               11.000  ...   \n",
       "7835            2869.000       11233.0        13.0               11.714  ...   \n",
       "7836            3063.143       11245.0        12.0               12.000  ...   \n",
       "7837            3260.571       11251.0         6.0               12.000  ...   \n",
       "\n",
       "      female_smokers  male_smokers  handwashing_facilities  \\\n",
       "7230            28.4          30.9                     NaN   \n",
       "7231            28.4          30.9                     NaN   \n",
       "7232            28.4          30.9                     NaN   \n",
       "7233            28.4          30.9                     NaN   \n",
       "7234            28.4          30.9                     NaN   \n",
       "...              ...           ...                     ...   \n",
       "7833            28.4          30.9                     NaN   \n",
       "7834            28.4          30.9                     NaN   \n",
       "7835            28.4          30.9                     NaN   \n",
       "7836            28.4          30.9                     NaN   \n",
       "7837            28.4          30.9                     NaN   \n",
       "\n",
       "      hospital_beds_per_thousand  life_expectancy  human_development_index  \\\n",
       "7230                        7.37            81.54                    0.922   \n",
       "7231                        7.37            81.54                    0.922   \n",
       "7232                        7.37            81.54                    0.922   \n",
       "7233                        7.37            81.54                    0.922   \n",
       "7234                        7.37            81.54                    0.922   \n",
       "...                          ...              ...                      ...   \n",
       "7833                        7.37            81.54                    0.922   \n",
       "7834                        7.37            81.54                    0.922   \n",
       "7835                        7.37            81.54                    0.922   \n",
       "7836                        7.37            81.54                    0.922   \n",
       "7837                        7.37            81.54                    0.922   \n",
       "\n",
       "      excess_mortality_cumulative_absolute  excess_mortality_cumulative  \\\n",
       "7230                                   NaN                          NaN   \n",
       "7231                                   NaN                          NaN   \n",
       "7232                                   NaN                          NaN   \n",
       "7233                                   NaN                          NaN   \n",
       "7234                                   NaN                          NaN   \n",
       "...                                    ...                          ...   \n",
       "7833                                   NaN                          NaN   \n",
       "7834                                   NaN                          NaN   \n",
       "7835                                   NaN                          NaN   \n",
       "7836                                   NaN                          NaN   \n",
       "7837                                   NaN                          NaN   \n",
       "\n",
       "      excess_mortality  excess_mortality_cumulative_per_million  \n",
       "7230               NaN                                      NaN  \n",
       "7231               NaN                                      NaN  \n",
       "7232               NaN                                      NaN  \n",
       "7233               NaN                                      NaN  \n",
       "7234               NaN                                      NaN  \n",
       "...                ...                                      ...  \n",
       "7833               NaN                                      NaN  \n",
       "7834               NaN                                      NaN  \n",
       "7835               NaN                                      NaN  \n",
       "7836               NaN                                      NaN  \n",
       "7837               NaN                                      NaN  \n",
       "\n",
       "[608 rows x 65 columns]"
      ]
     },
     "execution_count": 6,
     "metadata": {},
     "output_type": "execute_result"
    }
   ],
   "source": [
    "df"
   ]
  },
  {
   "cell_type": "code",
   "execution_count": 7,
   "metadata": {
    "ExecuteTime": {
     "end_time": "2020-09-21T07:54:10.901957Z",
     "start_time": "2020-09-21T07:54:03.746265Z"
    }
   },
   "outputs": [
    {
     "name": "stderr",
     "output_type": "stream",
     "text": [
      "/home/alex/anaconda3/envs/covid-venv/lib/python3.7/site-packages/seaborn/_decorators.py:43: FutureWarning: Pass the following variables as keyword args: x, y. From version 0.12, the only valid positional argument will be `data`, and passing other arguments without an explicit keyword will result in an error or misinterpretation.\n",
      "  FutureWarning\n"
     ]
    },
    {
     "data": {
      "image/png": "[encoded data removed]",
      "text/plain": [
       "<Figure size 2160x1080 with 1 Axes>"
      ]
     },
     "metadata": {
      "needs_background": "light"
     },
     "output_type": "display_data"
    }
   ],
   "source": [
    "_ = plt.figure(figsize=(30, 15))\n",
    "sns.scatterplot(sorted(df.date), df.new_cases);"
   ]
  },
  {
   "cell_type": "markdown",
   "metadata": {},
   "source": [
    "## Check missing"
   ]
  },
  {
   "cell_type": "code",
   "execution_count": 8,
   "metadata": {
    "ExecuteTime": {
     "end_time": "2020-09-21T07:54:10.926338Z",
     "start_time": "2020-09-21T07:54:10.907578Z"
    }
   },
   "outputs": [],
   "source": [
    "df = df_orig.copy()"
   ]
  },
  {
   "cell_type": "code",
   "execution_count": 9,
   "metadata": {
    "ExecuteTime": {
     "end_time": "2020-09-21T07:54:10.994112Z",
     "start_time": "2020-09-21T07:54:10.937958Z"
    }
   },
   "outputs": [
    {
     "name": "stdout",
     "output_type": "stream",
     "text": [
      "<class 'pandas.core.frame.DataFrame'>\n",
      "RangeIndex: 125965 entries, 0 to 125964\n",
      "Data columns (total 65 columns):\n",
      " #   Column                                   Non-Null Count   Dtype  \n",
      "---  ------                                   --------------   -----  \n",
      " 0   iso_code                                 125965 non-null  object \n",
      " 1   continent                                120261 non-null  object \n",
      " 2   location                                 125965 non-null  object \n",
      " 3   date                                     125965 non-null  object \n",
      " 4   total_cases                              119154 non-null  float64\n",
      " 5   new_cases                                119150 non-null  float64\n",
      " 6   new_cases_smoothed                       118136 non-null  float64\n",
      " 7   total_deaths                             108218 non-null  float64\n",
      " 8   new_deaths                               108371 non-null  float64\n",
      " 9   new_deaths_smoothed                      118136 non-null  float64\n",
      " 10  total_cases_per_million                  118528 non-null  float64\n",
      " 11  new_cases_per_million                    118524 non-null  float64\n",
      " 12  new_cases_smoothed_per_million           117515 non-null  float64\n",
      " 13  total_deaths_per_million                 107605 non-null  float64\n",
      " 14  new_deaths_per_million                   107758 non-null  float64\n",
      " 15  new_deaths_smoothed_per_million          117515 non-null  float64\n",
      " 16  reproduction_rate                        101466 non-null  float64\n",
      " 17  icu_patients                             15397 non-null   float64\n",
      " 18  icu_patients_per_million                 15397 non-null   float64\n",
      " 19  hosp_patients                            17481 non-null   float64\n",
      " 20  hosp_patients_per_million                17481 non-null   float64\n",
      " 21  weekly_icu_admissions                    1294 non-null    float64\n",
      " 22  weekly_icu_admissions_per_million        1294 non-null    float64\n",
      " 23  weekly_hosp_admissions                   2260 non-null    float64\n",
      " 24  weekly_hosp_admissions_per_million       2260 non-null    float64\n",
      " 25  new_tests                                53743 non-null   float64\n",
      " 26  total_tests                              53895 non-null   float64\n",
      " 27  total_tests_per_thousand                 53895 non-null   float64\n",
      " 28  new_tests_per_thousand                   53743 non-null   float64\n",
      " 29  new_tests_smoothed                       64886 non-null   float64\n",
      " 30  new_tests_smoothed_per_thousand          64886 non-null   float64\n",
      " 31  positive_rate                            60954 non-null   float64\n",
      " 32  tests_per_case                           60311 non-null   float64\n",
      " 33  tests_units                              66853 non-null   object \n",
      " 34  total_vaccinations                       29989 non-null   float64\n",
      " 35  people_vaccinated                        28649 non-null   float64\n",
      " 36  people_fully_vaccinated                  25553 non-null   float64\n",
      " 37  total_boosters                           4291 non-null    float64\n",
      " 38  new_vaccinations                         24765 non-null   float64\n",
      " 39  new_vaccinations_smoothed                54096 non-null   float64\n",
      " 40  total_vaccinations_per_hundred           29989 non-null   float64\n",
      " 41  people_vaccinated_per_hundred            28649 non-null   float64\n",
      " 42  people_fully_vaccinated_per_hundred      25553 non-null   float64\n",
      " 43  total_boosters_per_hundred               4291 non-null    float64\n",
      " 44  new_vaccinations_smoothed_per_million    54096 non-null   float64\n",
      " 45  stringency_index                         104707 non-null  float64\n",
      " 46  population                               125057 non-null  float64\n",
      " 47  population_density                       116338 non-null  float64\n",
      " 48  median_age                               111008 non-null  float64\n",
      " 49  aged_65_older                            109778 non-null  float64\n",
      " 50  aged_70_older                            110401 non-null  float64\n",
      " 51  gdp_per_capita                           111684 non-null  float64\n",
      " 52  extreme_poverty                          74731 non-null   float64\n",
      " 53  cardiovasc_death_rate                    111279 non-null  float64\n",
      " 54  diabetes_prevalence                      114801 non-null  float64\n",
      " 55  female_smokers                           86705 non-null   float64\n",
      " 56  male_smokers                             85449 non-null   float64\n",
      " 57  handwashing_facilities                   56003 non-null   float64\n",
      " 58  hospital_beds_per_thousand               101152 non-null  float64\n",
      " 59  life_expectancy                          119460 non-null  float64\n",
      " 60  human_development_index                  111373 non-null  float64\n",
      " 61  excess_mortality_cumulative_absolute     4563 non-null    float64\n",
      " 62  excess_mortality_cumulative              4563 non-null    float64\n",
      " 63  excess_mortality                         4563 non-null    float64\n",
      " 64  excess_mortality_cumulative_per_million  4563 non-null    float64\n",
      "dtypes: float64(60), object(5)\n",
      "memory usage: 62.5+ MB\n"
     ]
    }
   ],
   "source": [
    "df.info()"
   ]
  },
  {
   "cell_type": "code",
   "execution_count": 10,
   "metadata": {
    "ExecuteTime": {
     "end_time": "2020-09-21T07:54:11.040019Z",
     "start_time": "2020-09-21T07:54:11.001821Z"
    }
   },
   "outputs": [
    {
     "data": {
      "text/html": [
       "<div>\n",
       "<style scoped>\n",
       "    .dataframe tbody tr th:only-of-type {\n",
       "        vertical-align: middle;\n",
       "    }\n",
       "\n",
       "    .dataframe tbody tr th {\n",
       "        vertical-align: top;\n",
       "    }\n",
       "\n",
       "    .dataframe thead th {\n",
       "        text-align: right;\n",
       "    }\n",
       "</style>\n",
       "<table border=\"1\" class=\"dataframe\">\n",
       "  <thead>\n",
       "    <tr style=\"text-align: right;\">\n",
       "      <th></th>\n",
       "      <th>column_name</th>\n",
       "      <th>percent_missing</th>\n",
       "    </tr>\n",
       "  </thead>\n",
       "  <tbody>\n",
       "    <tr>\n",
       "      <th>weekly_icu_admissions_per_million</th>\n",
       "      <td>weekly_icu_admissions_per_million</td>\n",
       "      <td>98.972731</td>\n",
       "    </tr>\n",
       "    <tr>\n",
       "      <th>weekly_icu_admissions</th>\n",
       "      <td>weekly_icu_admissions</td>\n",
       "      <td>98.972731</td>\n",
       "    </tr>\n",
       "    <tr>\n",
       "      <th>weekly_hosp_admissions_per_million</th>\n",
       "      <td>weekly_hosp_admissions_per_million</td>\n",
       "      <td>98.205851</td>\n",
       "    </tr>\n",
       "    <tr>\n",
       "      <th>weekly_hosp_admissions</th>\n",
       "      <td>weekly_hosp_admissions</td>\n",
       "      <td>98.205851</td>\n",
       "    </tr>\n",
       "    <tr>\n",
       "      <th>total_boosters_per_hundred</th>\n",
       "      <td>total_boosters_per_hundred</td>\n",
       "      <td>96.593498</td>\n",
       "    </tr>\n",
       "    <tr>\n",
       "      <th>...</th>\n",
       "      <td>...</td>\n",
       "      <td>...</td>\n",
       "    </tr>\n",
       "    <tr>\n",
       "      <th>continent</th>\n",
       "      <td>continent</td>\n",
       "      <td>4.528242</td>\n",
       "    </tr>\n",
       "    <tr>\n",
       "      <th>population</th>\n",
       "      <td>population</td>\n",
       "      <td>0.720835</td>\n",
       "    </tr>\n",
       "    <tr>\n",
       "      <th>date</th>\n",
       "      <td>date</td>\n",
       "      <td>0.000000</td>\n",
       "    </tr>\n",
       "    <tr>\n",
       "      <th>location</th>\n",
       "      <td>location</td>\n",
       "      <td>0.000000</td>\n",
       "    </tr>\n",
       "    <tr>\n",
       "      <th>iso_code</th>\n",
       "      <td>iso_code</td>\n",
       "      <td>0.000000</td>\n",
       "    </tr>\n",
       "  </tbody>\n",
       "</table>\n",
       "<p>65 rows × 2 columns</p>\n",
       "</div>"
      ],
      "text/plain": [
       "                                                           column_name  \\\n",
       "weekly_icu_admissions_per_million    weekly_icu_admissions_per_million   \n",
       "weekly_icu_admissions                            weekly_icu_admissions   \n",
       "weekly_hosp_admissions_per_million  weekly_hosp_admissions_per_million   \n",
       "weekly_hosp_admissions                          weekly_hosp_admissions   \n",
       "total_boosters_per_hundred                  total_boosters_per_hundred   \n",
       "...                                                                ...   \n",
       "continent                                                    continent   \n",
       "population                                                  population   \n",
       "date                                                              date   \n",
       "location                                                      location   \n",
       "iso_code                                                      iso_code   \n",
       "\n",
       "                                    percent_missing  \n",
       "weekly_icu_admissions_per_million         98.972731  \n",
       "weekly_icu_admissions                     98.972731  \n",
       "weekly_hosp_admissions_per_million        98.205851  \n",
       "weekly_hosp_admissions                    98.205851  \n",
       "total_boosters_per_hundred                96.593498  \n",
       "...                                             ...  \n",
       "continent                                  4.528242  \n",
       "population                                 0.720835  \n",
       "date                                       0.000000  \n",
       "location                                   0.000000  \n",
       "iso_code                                   0.000000  \n",
       "\n",
       "[65 rows x 2 columns]"
      ]
     },
     "execution_count": 10,
     "metadata": {},
     "output_type": "execute_result"
    }
   ],
   "source": [
    "percent_missing = df.isnull().sum() * 100 / len(df)\n",
    "missing_value_df = pd.DataFrame({'column_name': df.columns,\n",
    "                                 'percent_missing': percent_missing})\n",
    "\n",
    "missing_value_df.sort_values('percent_missing', inplace=True, ascending=False)\n",
    "missing_value_df"
   ]
  },
  {
   "cell_type": "code",
   "execution_count": 11,
   "metadata": {
    "ExecuteTime": {
     "end_time": "2020-09-21T07:54:11.053050Z",
     "start_time": "2020-09-21T07:54:11.042933Z"
    }
   },
   "outputs": [
    {
     "data": {
      "text/plain": [
       "30"
      ]
     },
     "execution_count": 11,
     "metadata": {},
     "output_type": "execute_result"
    },
    {
     "data": {
      "text/plain": [
       "['weekly_icu_admissions_per_million',\n",
       " 'weekly_icu_admissions',\n",
       " 'weekly_hosp_admissions_per_million',\n",
       " 'weekly_hosp_admissions',\n",
       " 'total_boosters_per_hundred',\n",
       " 'total_boosters',\n",
       " 'excess_mortality_cumulative_per_million',\n",
       " 'excess_mortality',\n",
       " 'excess_mortality_cumulative',\n",
       " 'excess_mortality_cumulative_absolute',\n",
       " 'icu_patients',\n",
       " 'icu_patients_per_million',\n",
       " 'hosp_patients_per_million',\n",
       " 'hosp_patients',\n",
       " 'new_vaccinations',\n",
       " 'people_fully_vaccinated',\n",
       " 'people_fully_vaccinated_per_hundred',\n",
       " 'people_vaccinated',\n",
       " 'people_vaccinated_per_hundred',\n",
       " 'total_vaccinations',\n",
       " 'total_vaccinations_per_hundred',\n",
       " 'new_tests_per_thousand',\n",
       " 'new_tests',\n",
       " 'total_tests',\n",
       " 'total_tests_per_thousand',\n",
       " 'new_vaccinations_smoothed',\n",
       " 'new_vaccinations_smoothed_per_million',\n",
       " 'handwashing_facilities',\n",
       " 'tests_per_case',\n",
       " 'positive_rate']"
      ]
     },
     "execution_count": 11,
     "metadata": {},
     "output_type": "execute_result"
    }
   ],
   "source": [
    "cols_too_many_missing = missing_value_df[missing_value_df.percent_missing > 50].index.tolist()\n",
    "len(cols_too_many_missing)\n",
    "cols_too_many_missing"
   ]
  },
  {
   "cell_type": "code",
   "execution_count": 12,
   "metadata": {
    "ExecuteTime": {
     "end_time": "2020-09-21T07:54:11.065052Z",
     "start_time": "2020-09-21T07:54:11.056183Z"
    }
   },
   "outputs": [
    {
     "data": {
      "text/plain": [
       "65"
      ]
     },
     "execution_count": 12,
     "metadata": {},
     "output_type": "execute_result"
    }
   ],
   "source": [
    "len(df.columns)"
   ]
  },
  {
   "cell_type": "code",
   "execution_count": 13,
   "metadata": {
    "ExecuteTime": {
     "end_time": "2020-09-21T07:54:11.079291Z",
     "start_time": "2020-09-21T07:54:11.069966Z"
    }
   },
   "outputs": [],
   "source": [
    "df_reduced = df.drop(columns=cols_too_many_missing)"
   ]
  },
  {
   "cell_type": "code",
   "execution_count": 14,
   "metadata": {
    "ExecuteTime": {
     "end_time": "2020-09-21T07:54:11.087006Z",
     "start_time": "2020-09-21T07:54:11.081446Z"
    }
   },
   "outputs": [
    {
     "data": {
      "text/plain": [
       "35"
      ]
     },
     "execution_count": 14,
     "metadata": {},
     "output_type": "execute_result"
    }
   ],
   "source": [
    "len(df_reduced.columns)"
   ]
  },
  {
   "cell_type": "code",
   "execution_count": 15,
   "metadata": {
    "ExecuteTime": {
     "end_time": "2020-09-21T07:54:11.161101Z",
     "start_time": "2020-09-21T07:54:11.089148Z"
    }
   },
   "outputs": [
    {
     "data": {
      "text/html": [
       "<div>\n",
       "<style scoped>\n",
       "    .dataframe tbody tr th:only-of-type {\n",
       "        vertical-align: middle;\n",
       "    }\n",
       "\n",
       "    .dataframe tbody tr th {\n",
       "        vertical-align: top;\n",
       "    }\n",
       "\n",
       "    .dataframe thead th {\n",
       "        text-align: right;\n",
       "    }\n",
       "</style>\n",
       "<table border=\"1\" class=\"dataframe\">\n",
       "  <thead>\n",
       "    <tr style=\"text-align: right;\">\n",
       "      <th></th>\n",
       "      <th>iso_code</th>\n",
       "      <th>continent</th>\n",
       "      <th>location</th>\n",
       "      <th>date</th>\n",
       "      <th>total_cases</th>\n",
       "      <th>new_cases</th>\n",
       "      <th>new_cases_smoothed</th>\n",
       "      <th>total_deaths</th>\n",
       "      <th>new_deaths</th>\n",
       "      <th>new_deaths_smoothed</th>\n",
       "      <th>...</th>\n",
       "      <th>aged_70_older</th>\n",
       "      <th>gdp_per_capita</th>\n",
       "      <th>extreme_poverty</th>\n",
       "      <th>cardiovasc_death_rate</th>\n",
       "      <th>diabetes_prevalence</th>\n",
       "      <th>female_smokers</th>\n",
       "      <th>male_smokers</th>\n",
       "      <th>hospital_beds_per_thousand</th>\n",
       "      <th>life_expectancy</th>\n",
       "      <th>human_development_index</th>\n",
       "    </tr>\n",
       "  </thead>\n",
       "  <tbody>\n",
       "    <tr>\n",
       "      <th>0</th>\n",
       "      <td>AFG</td>\n",
       "      <td>Asia</td>\n",
       "      <td>Afghanistan</td>\n",
       "      <td>2020-02-24</td>\n",
       "      <td>5.0</td>\n",
       "      <td>5.0</td>\n",
       "      <td>NaN</td>\n",
       "      <td>NaN</td>\n",
       "      <td>NaN</td>\n",
       "      <td>NaN</td>\n",
       "      <td>...</td>\n",
       "      <td>1.337</td>\n",
       "      <td>1803.987</td>\n",
       "      <td>NaN</td>\n",
       "      <td>597.029</td>\n",
       "      <td>9.59</td>\n",
       "      <td>NaN</td>\n",
       "      <td>NaN</td>\n",
       "      <td>0.5</td>\n",
       "      <td>64.83</td>\n",
       "      <td>0.511</td>\n",
       "    </tr>\n",
       "    <tr>\n",
       "      <th>1</th>\n",
       "      <td>AFG</td>\n",
       "      <td>Asia</td>\n",
       "      <td>Afghanistan</td>\n",
       "      <td>2020-02-25</td>\n",
       "      <td>5.0</td>\n",
       "      <td>0.0</td>\n",
       "      <td>NaN</td>\n",
       "      <td>NaN</td>\n",
       "      <td>NaN</td>\n",
       "      <td>NaN</td>\n",
       "      <td>...</td>\n",
       "      <td>1.337</td>\n",
       "      <td>1803.987</td>\n",
       "      <td>NaN</td>\n",
       "      <td>597.029</td>\n",
       "      <td>9.59</td>\n",
       "      <td>NaN</td>\n",
       "      <td>NaN</td>\n",
       "      <td>0.5</td>\n",
       "      <td>64.83</td>\n",
       "      <td>0.511</td>\n",
       "    </tr>\n",
       "    <tr>\n",
       "      <th>2</th>\n",
       "      <td>AFG</td>\n",
       "      <td>Asia</td>\n",
       "      <td>Afghanistan</td>\n",
       "      <td>2020-02-26</td>\n",
       "      <td>5.0</td>\n",
       "      <td>0.0</td>\n",
       "      <td>NaN</td>\n",
       "      <td>NaN</td>\n",
       "      <td>NaN</td>\n",
       "      <td>NaN</td>\n",
       "      <td>...</td>\n",
       "      <td>1.337</td>\n",
       "      <td>1803.987</td>\n",
       "      <td>NaN</td>\n",
       "      <td>597.029</td>\n",
       "      <td>9.59</td>\n",
       "      <td>NaN</td>\n",
       "      <td>NaN</td>\n",
       "      <td>0.5</td>\n",
       "      <td>64.83</td>\n",
       "      <td>0.511</td>\n",
       "    </tr>\n",
       "    <tr>\n",
       "      <th>3</th>\n",
       "      <td>AFG</td>\n",
       "      <td>Asia</td>\n",
       "      <td>Afghanistan</td>\n",
       "      <td>2020-02-27</td>\n",
       "      <td>5.0</td>\n",
       "      <td>0.0</td>\n",
       "      <td>NaN</td>\n",
       "      <td>NaN</td>\n",
       "      <td>NaN</td>\n",
       "      <td>NaN</td>\n",
       "      <td>...</td>\n",
       "      <td>1.337</td>\n",
       "      <td>1803.987</td>\n",
       "      <td>NaN</td>\n",
       "      <td>597.029</td>\n",
       "      <td>9.59</td>\n",
       "      <td>NaN</td>\n",
       "      <td>NaN</td>\n",
       "      <td>0.5</td>\n",
       "      <td>64.83</td>\n",
       "      <td>0.511</td>\n",
       "    </tr>\n",
       "    <tr>\n",
       "      <th>4</th>\n",
       "      <td>AFG</td>\n",
       "      <td>Asia</td>\n",
       "      <td>Afghanistan</td>\n",
       "      <td>2020-02-28</td>\n",
       "      <td>5.0</td>\n",
       "      <td>0.0</td>\n",
       "      <td>NaN</td>\n",
       "      <td>NaN</td>\n",
       "      <td>NaN</td>\n",
       "      <td>NaN</td>\n",
       "      <td>...</td>\n",
       "      <td>1.337</td>\n",
       "      <td>1803.987</td>\n",
       "      <td>NaN</td>\n",
       "      <td>597.029</td>\n",
       "      <td>9.59</td>\n",
       "      <td>NaN</td>\n",
       "      <td>NaN</td>\n",
       "      <td>0.5</td>\n",
       "      <td>64.83</td>\n",
       "      <td>0.511</td>\n",
       "    </tr>\n",
       "    <tr>\n",
       "      <th>...</th>\n",
       "      <td>...</td>\n",
       "      <td>...</td>\n",
       "      <td>...</td>\n",
       "      <td>...</td>\n",
       "      <td>...</td>\n",
       "      <td>...</td>\n",
       "      <td>...</td>\n",
       "      <td>...</td>\n",
       "      <td>...</td>\n",
       "      <td>...</td>\n",
       "      <td>...</td>\n",
       "      <td>...</td>\n",
       "      <td>...</td>\n",
       "      <td>...</td>\n",
       "      <td>...</td>\n",
       "      <td>...</td>\n",
       "      <td>...</td>\n",
       "      <td>...</td>\n",
       "      <td>...</td>\n",
       "      <td>...</td>\n",
       "      <td>...</td>\n",
       "    </tr>\n",
       "    <tr>\n",
       "      <th>125960</th>\n",
       "      <td>ZWE</td>\n",
       "      <td>Africa</td>\n",
       "      <td>Zimbabwe</td>\n",
       "      <td>2021-10-20</td>\n",
       "      <td>132437.0</td>\n",
       "      <td>32.0</td>\n",
       "      <td>47.000</td>\n",
       "      <td>4659.0</td>\n",
       "      <td>0.0</td>\n",
       "      <td>1.571</td>\n",
       "      <td>...</td>\n",
       "      <td>1.882</td>\n",
       "      <td>1899.775</td>\n",
       "      <td>21.4</td>\n",
       "      <td>307.846</td>\n",
       "      <td>1.82</td>\n",
       "      <td>1.6</td>\n",
       "      <td>30.7</td>\n",
       "      <td>1.7</td>\n",
       "      <td>61.49</td>\n",
       "      <td>0.571</td>\n",
       "    </tr>\n",
       "    <tr>\n",
       "      <th>125961</th>\n",
       "      <td>ZWE</td>\n",
       "      <td>Africa</td>\n",
       "      <td>Zimbabwe</td>\n",
       "      <td>2021-10-21</td>\n",
       "      <td>132540.0</td>\n",
       "      <td>103.0</td>\n",
       "      <td>41.286</td>\n",
       "      <td>4662.0</td>\n",
       "      <td>3.0</td>\n",
       "      <td>1.000</td>\n",
       "      <td>...</td>\n",
       "      <td>1.882</td>\n",
       "      <td>1899.775</td>\n",
       "      <td>21.4</td>\n",
       "      <td>307.846</td>\n",
       "      <td>1.82</td>\n",
       "      <td>1.6</td>\n",
       "      <td>30.7</td>\n",
       "      <td>1.7</td>\n",
       "      <td>61.49</td>\n",
       "      <td>0.571</td>\n",
       "    </tr>\n",
       "    <tr>\n",
       "      <th>125962</th>\n",
       "      <td>ZWE</td>\n",
       "      <td>Africa</td>\n",
       "      <td>Zimbabwe</td>\n",
       "      <td>2021-10-22</td>\n",
       "      <td>132588.0</td>\n",
       "      <td>48.0</td>\n",
       "      <td>43.286</td>\n",
       "      <td>4663.0</td>\n",
       "      <td>1.0</td>\n",
       "      <td>1.143</td>\n",
       "      <td>...</td>\n",
       "      <td>1.882</td>\n",
       "      <td>1899.775</td>\n",
       "      <td>21.4</td>\n",
       "      <td>307.846</td>\n",
       "      <td>1.82</td>\n",
       "      <td>1.6</td>\n",
       "      <td>30.7</td>\n",
       "      <td>1.7</td>\n",
       "      <td>61.49</td>\n",
       "      <td>0.571</td>\n",
       "    </tr>\n",
       "    <tr>\n",
       "      <th>125963</th>\n",
       "      <td>ZWE</td>\n",
       "      <td>Africa</td>\n",
       "      <td>Zimbabwe</td>\n",
       "      <td>2021-10-23</td>\n",
       "      <td>132588.0</td>\n",
       "      <td>0.0</td>\n",
       "      <td>36.429</td>\n",
       "      <td>4663.0</td>\n",
       "      <td>0.0</td>\n",
       "      <td>0.857</td>\n",
       "      <td>...</td>\n",
       "      <td>1.882</td>\n",
       "      <td>1899.775</td>\n",
       "      <td>21.4</td>\n",
       "      <td>307.846</td>\n",
       "      <td>1.82</td>\n",
       "      <td>1.6</td>\n",
       "      <td>30.7</td>\n",
       "      <td>1.7</td>\n",
       "      <td>61.49</td>\n",
       "      <td>0.571</td>\n",
       "    </tr>\n",
       "    <tr>\n",
       "      <th>125964</th>\n",
       "      <td>ZWE</td>\n",
       "      <td>Africa</td>\n",
       "      <td>Zimbabwe</td>\n",
       "      <td>2021-10-24</td>\n",
       "      <td>132651.0</td>\n",
       "      <td>63.0</td>\n",
       "      <td>40.429</td>\n",
       "      <td>4669.0</td>\n",
       "      <td>6.0</td>\n",
       "      <td>1.571</td>\n",
       "      <td>...</td>\n",
       "      <td>1.882</td>\n",
       "      <td>1899.775</td>\n",
       "      <td>21.4</td>\n",
       "      <td>307.846</td>\n",
       "      <td>1.82</td>\n",
       "      <td>1.6</td>\n",
       "      <td>30.7</td>\n",
       "      <td>1.7</td>\n",
       "      <td>61.49</td>\n",
       "      <td>0.571</td>\n",
       "    </tr>\n",
       "  </tbody>\n",
       "</table>\n",
       "<p>125965 rows × 35 columns</p>\n",
       "</div>"
      ],
      "text/plain": [
       "       iso_code continent     location        date  total_cases  new_cases  \\\n",
       "0           AFG      Asia  Afghanistan  2020-02-24          5.0        5.0   \n",
       "1           AFG      Asia  Afghanistan  2020-02-25          5.0        0.0   \n",
       "2           AFG      Asia  Afghanistan  2020-02-26          5.0        0.0   \n",
       "3           AFG      Asia  Afghanistan  2020-02-27          5.0        0.0   \n",
       "4           AFG      Asia  Afghanistan  2020-02-28          5.0        0.0   \n",
       "...         ...       ...          ...         ...          ...        ...   \n",
       "125960      ZWE    Africa     Zimbabwe  2021-10-20     132437.0       32.0   \n",
       "125961      ZWE    Africa     Zimbabwe  2021-10-21     132540.0      103.0   \n",
       "125962      ZWE    Africa     Zimbabwe  2021-10-22     132588.0       48.0   \n",
       "125963      ZWE    Africa     Zimbabwe  2021-10-23     132588.0        0.0   \n",
       "125964      ZWE    Africa     Zimbabwe  2021-10-24     132651.0       63.0   \n",
       "\n",
       "        new_cases_smoothed  total_deaths  new_deaths  new_deaths_smoothed  \\\n",
       "0                      NaN           NaN         NaN                  NaN   \n",
       "1                      NaN           NaN         NaN                  NaN   \n",
       "2                      NaN           NaN         NaN                  NaN   \n",
       "3                      NaN           NaN         NaN                  NaN   \n",
       "4                      NaN           NaN         NaN                  NaN   \n",
       "...                    ...           ...         ...                  ...   \n",
       "125960              47.000        4659.0         0.0                1.571   \n",
       "125961              41.286        4662.0         3.0                1.000   \n",
       "125962              43.286        4663.0         1.0                1.143   \n",
       "125963              36.429        4663.0         0.0                0.857   \n",
       "125964              40.429        4669.0         6.0                1.571   \n",
       "\n",
       "        ...  aged_70_older  gdp_per_capita  extreme_poverty  \\\n",
       "0       ...          1.337        1803.987              NaN   \n",
       "1       ...          1.337        1803.987              NaN   \n",
       "2       ...          1.337        1803.987              NaN   \n",
       "3       ...          1.337        1803.987              NaN   \n",
       "4       ...          1.337        1803.987              NaN   \n",
       "...     ...            ...             ...              ...   \n",
       "125960  ...          1.882        1899.775             21.4   \n",
       "125961  ...          1.882        1899.775             21.4   \n",
       "125962  ...          1.882        1899.775             21.4   \n",
       "125963  ...          1.882        1899.775             21.4   \n",
       "125964  ...          1.882        1899.775             21.4   \n",
       "\n",
       "        cardiovasc_death_rate  diabetes_prevalence  female_smokers  \\\n",
       "0                     597.029                 9.59             NaN   \n",
       "1                     597.029                 9.59             NaN   \n",
       "2                     597.029                 9.59             NaN   \n",
       "3                     597.029                 9.59             NaN   \n",
       "4                     597.029                 9.59             NaN   \n",
       "...                       ...                  ...             ...   \n",
       "125960                307.846                 1.82             1.6   \n",
       "125961                307.846                 1.82             1.6   \n",
       "125962                307.846                 1.82             1.6   \n",
       "125963                307.846                 1.82             1.6   \n",
       "125964                307.846                 1.82             1.6   \n",
       "\n",
       "        male_smokers  hospital_beds_per_thousand  life_expectancy  \\\n",
       "0                NaN                         0.5            64.83   \n",
       "1                NaN                         0.5            64.83   \n",
       "2                NaN                         0.5            64.83   \n",
       "3                NaN                         0.5            64.83   \n",
       "4                NaN                         0.5            64.83   \n",
       "...              ...                         ...              ...   \n",
       "125960          30.7                         1.7            61.49   \n",
       "125961          30.7                         1.7            61.49   \n",
       "125962          30.7                         1.7            61.49   \n",
       "125963          30.7                         1.7            61.49   \n",
       "125964          30.7                         1.7            61.49   \n",
       "\n",
       "       human_development_index  \n",
       "0                        0.511  \n",
       "1                        0.511  \n",
       "2                        0.511  \n",
       "3                        0.511  \n",
       "4                        0.511  \n",
       "...                        ...  \n",
       "125960                   0.571  \n",
       "125961                   0.571  \n",
       "125962                   0.571  \n",
       "125963                   0.571  \n",
       "125964                   0.571  \n",
       "\n",
       "[125965 rows x 35 columns]"
      ]
     },
     "execution_count": 15,
     "metadata": {},
     "output_type": "execute_result"
    }
   ],
   "source": [
    "df_reduced"
   ]
  },
  {
   "cell_type": "code",
   "execution_count": 16,
   "metadata": {
    "ExecuteTime": {
     "end_time": "2020-09-21T07:54:11.173339Z",
     "start_time": "2020-09-21T07:54:11.164886Z"
    }
   },
   "outputs": [],
   "source": [
    "df = df_reduced"
   ]
  },
  {
   "cell_type": "code",
   "execution_count": 17,
   "metadata": {
    "ExecuteTime": {
     "end_time": "2020-09-21T07:54:11.203907Z",
     "start_time": "2020-09-21T07:54:11.177765Z"
    }
   },
   "outputs": [
    {
     "name": "stdout",
     "output_type": "stream",
     "text": [
      "<class 'pandas.core.frame.DataFrame'>\n",
      "RangeIndex: 125965 entries, 0 to 125964\n",
      "Data columns (total 35 columns):\n",
      " #   Column                           Non-Null Count   Dtype  \n",
      "---  ------                           --------------   -----  \n",
      " 0   iso_code                         125965 non-null  object \n",
      " 1   continent                        120261 non-null  object \n",
      " 2   location                         125965 non-null  object \n",
      " 3   date                             125965 non-null  object \n",
      " 4   total_cases                      119154 non-null  float64\n",
      " 5   new_cases                        119150 non-null  float64\n",
      " 6   new_cases_smoothed               118136 non-null  float64\n",
      " 7   total_deaths                     108218 non-null  float64\n",
      " 8   new_deaths                       108371 non-null  float64\n",
      " 9   new_deaths_smoothed              118136 non-null  float64\n",
      " 10  total_cases_per_million          118528 non-null  float64\n",
      " 11  new_cases_per_million            118524 non-null  float64\n",
      " 12  new_cases_smoothed_per_million   117515 non-null  float64\n",
      " 13  total_deaths_per_million         107605 non-null  float64\n",
      " 14  new_deaths_per_million           107758 non-null  float64\n",
      " 15  new_deaths_smoothed_per_million  117515 non-null  float64\n",
      " 16  reproduction_rate                101466 non-null  float64\n",
      " 17  new_tests_smoothed               64886 non-null   float64\n",
      " 18  new_tests_smoothed_per_thousand  64886 non-null   float64\n",
      " 19  tests_units                      66853 non-null   object \n",
      " 20  stringency_index                 104707 non-null  float64\n",
      " 21  population                       125057 non-null  float64\n",
      " 22  population_density               116338 non-null  float64\n",
      " 23  median_age                       111008 non-null  float64\n",
      " 24  aged_65_older                    109778 non-null  float64\n",
      " 25  aged_70_older                    110401 non-null  float64\n",
      " 26  gdp_per_capita                   111684 non-null  float64\n",
      " 27  extreme_poverty                  74731 non-null   float64\n",
      " 28  cardiovasc_death_rate            111279 non-null  float64\n",
      " 29  diabetes_prevalence              114801 non-null  float64\n",
      " 30  female_smokers                   86705 non-null   float64\n",
      " 31  male_smokers                     85449 non-null   float64\n",
      " 32  hospital_beds_per_thousand       101152 non-null  float64\n",
      " 33  life_expectancy                  119460 non-null  float64\n",
      " 34  human_development_index          111373 non-null  float64\n",
      "dtypes: float64(30), object(5)\n",
      "memory usage: 33.6+ MB\n"
     ]
    }
   ],
   "source": [
    "df.info()"
   ]
  },
  {
   "cell_type": "code",
   "execution_count": 18,
   "metadata": {
    "ExecuteTime": {
     "end_time": "2020-09-21T07:54:11.223283Z",
     "start_time": "2020-09-21T07:54:11.206188Z"
    }
   },
   "outputs": [],
   "source": [
    "missing_iso_code = df[df.iso_code.isna()]\n",
    "df = df.drop(index=missing_iso_code.index)"
   ]
  },
  {
   "cell_type": "code",
   "execution_count": 19,
   "metadata": {
    "ExecuteTime": {
     "end_time": "2020-09-21T07:54:11.252239Z",
     "start_time": "2020-09-21T07:54:11.226035Z"
    }
   },
   "outputs": [],
   "source": [
    "missing_continent = df[df.continent.isna()]\n",
    "df = df.drop(index=missing_continent.index)"
   ]
  },
  {
   "cell_type": "code",
   "execution_count": 20,
   "metadata": {
    "ExecuteTime": {
     "end_time": "2020-09-21T07:54:11.419201Z",
     "start_time": "2020-09-21T07:54:11.254683Z"
    }
   },
   "outputs": [
    {
     "data": {
      "text/plain": [
       "('iso_code', 0)"
      ]
     },
     "execution_count": 20,
     "metadata": {},
     "output_type": "execute_result"
    },
    {
     "data": {
      "text/plain": [
       "('continent', 0)"
      ]
     },
     "execution_count": 20,
     "metadata": {},
     "output_type": "execute_result"
    },
    {
     "data": {
      "text/plain": [
       "('location', 0)"
      ]
     },
     "execution_count": 20,
     "metadata": {},
     "output_type": "execute_result"
    },
    {
     "data": {
      "text/plain": [
       "('date', 0)"
      ]
     },
     "execution_count": 20,
     "metadata": {},
     "output_type": "execute_result"
    },
    {
     "data": {
      "text/plain": [
       "('total_cases', 6806)"
      ]
     },
     "execution_count": 20,
     "metadata": {},
     "output_type": "execute_result"
    },
    {
     "data": {
      "text/plain": [
       "('new_cases', 6815)"
      ]
     },
     "execution_count": 20,
     "metadata": {},
     "output_type": "execute_result"
    },
    {
     "data": {
      "text/plain": [
       "('new_cases_smoothed', 7776)"
      ]
     },
     "execution_count": 20,
     "metadata": {},
     "output_type": "execute_result"
    },
    {
     "data": {
      "text/plain": [
       "('total_deaths', 17577)"
      ]
     },
     "execution_count": 20,
     "metadata": {},
     "output_type": "execute_result"
    },
    {
     "data": {
      "text/plain": [
       "('new_deaths', 17581)"
      ]
     },
     "execution_count": 20,
     "metadata": {},
     "output_type": "execute_result"
    },
    {
     "data": {
      "text/plain": [
       "('new_deaths_smoothed', 7776)"
      ]
     },
     "execution_count": 20,
     "metadata": {},
     "output_type": "execute_result"
    },
    {
     "data": {
      "text/plain": [
       "('total_cases_per_million', 6806)"
      ]
     },
     "execution_count": 20,
     "metadata": {},
     "output_type": "execute_result"
    },
    {
     "data": {
      "text/plain": [
       "('new_cases_per_million', 6815)"
      ]
     },
     "execution_count": 20,
     "metadata": {},
     "output_type": "execute_result"
    },
    {
     "data": {
      "text/plain": [
       "('new_cases_smoothed_per_million', 7776)"
      ]
     },
     "execution_count": 20,
     "metadata": {},
     "output_type": "execute_result"
    },
    {
     "data": {
      "text/plain": [
       "('total_deaths_per_million', 17577)"
      ]
     },
     "execution_count": 20,
     "metadata": {},
     "output_type": "execute_result"
    },
    {
     "data": {
      "text/plain": [
       "('new_deaths_per_million', 17581)"
      ]
     },
     "execution_count": 20,
     "metadata": {},
     "output_type": "execute_result"
    },
    {
     "data": {
      "text/plain": [
       "('new_deaths_smoothed_per_million', 7776)"
      ]
     },
     "execution_count": 20,
     "metadata": {},
     "output_type": "execute_result"
    },
    {
     "data": {
      "text/plain": [
       "('reproduction_rate', 19434)"
      ]
     },
     "execution_count": 20,
     "metadata": {},
     "output_type": "execute_result"
    },
    {
     "data": {
      "text/plain": [
       "('new_tests_smoothed', 55375)"
      ]
     },
     "execution_count": 20,
     "metadata": {},
     "output_type": "execute_result"
    },
    {
     "data": {
      "text/plain": [
       "('new_tests_smoothed_per_thousand', 55375)"
      ]
     },
     "execution_count": 20,
     "metadata": {},
     "output_type": "execute_result"
    },
    {
     "data": {
      "text/plain": [
       "('tests_units', 53408)"
      ]
     },
     "execution_count": 20,
     "metadata": {},
     "output_type": "execute_result"
    },
    {
     "data": {
      "text/plain": [
       "('stringency_index', 15554)"
      ]
     },
     "execution_count": 20,
     "metadata": {},
     "output_type": "execute_result"
    },
    {
     "data": {
      "text/plain": [
       "('population', 282)"
      ]
     },
     "execution_count": 20,
     "metadata": {},
     "output_type": "execute_result"
    },
    {
     "data": {
      "text/plain": [
       "('population_density', 4565)"
      ]
     },
     "execution_count": 20,
     "metadata": {},
     "output_type": "execute_result"
    },
    {
     "data": {
      "text/plain": [
       "('median_age', 9895)"
      ]
     },
     "execution_count": 20,
     "metadata": {},
     "output_type": "execute_result"
    },
    {
     "data": {
      "text/plain": [
       "('aged_65_older', 11125)"
      ]
     },
     "execution_count": 20,
     "metadata": {},
     "output_type": "execute_result"
    },
    {
     "data": {
      "text/plain": [
       "('aged_70_older', 10502)"
      ]
     },
     "execution_count": 20,
     "metadata": {},
     "output_type": "execute_result"
    },
    {
     "data": {
      "text/plain": [
       "('gdp_per_capita', 9219)"
      ]
     },
     "execution_count": 20,
     "metadata": {},
     "output_type": "execute_result"
    },
    {
     "data": {
      "text/plain": [
       "('extreme_poverty', 46172)"
      ]
     },
     "execution_count": 20,
     "metadata": {},
     "output_type": "execute_result"
    },
    {
     "data": {
      "text/plain": [
       "('cardiovasc_death_rate', 9624)"
      ]
     },
     "execution_count": 20,
     "metadata": {},
     "output_type": "execute_result"
    },
    {
     "data": {
      "text/plain": [
       "('diabetes_prevalence', 6102)"
      ]
     },
     "execution_count": 20,
     "metadata": {},
     "output_type": "execute_result"
    },
    {
     "data": {
      "text/plain": [
       "('female_smokers', 34198)"
      ]
     },
     "execution_count": 20,
     "metadata": {},
     "output_type": "execute_result"
    },
    {
     "data": {
      "text/plain": [
       "('male_smokers', 35454)"
      ]
     },
     "execution_count": 20,
     "metadata": {},
     "output_type": "execute_result"
    },
    {
     "data": {
      "text/plain": [
       "('hospital_beds_per_thousand', 19751)"
      ]
     },
     "execution_count": 20,
     "metadata": {},
     "output_type": "execute_result"
    },
    {
     "data": {
      "text/plain": [
       "('life_expectancy', 1443)"
      ]
     },
     "execution_count": 20,
     "metadata": {},
     "output_type": "execute_result"
    },
    {
     "data": {
      "text/plain": [
       "('human_development_index', 9530)"
      ]
     },
     "execution_count": 20,
     "metadata": {},
     "output_type": "execute_result"
    }
   ],
   "source": [
    "for col in df.columns: \n",
    "    col, df[col].isna().sum()"
   ]
  },
  {
   "cell_type": "markdown",
   "metadata": {},
   "source": [
    "Now we have removed the rows and columns that contained too many Nans."
   ]
  },
  {
   "cell_type": "markdown",
   "metadata": {},
   "source": [
    "# Preprocess for ML\n",
    "\n",
    "Now we need to encode the nominal variables and impute nans of the numerical variables."
   ]
  },
  {
   "cell_type": "code",
   "execution_count": 21,
   "metadata": {
    "ExecuteTime": {
     "end_time": "2020-09-21T07:54:11.985727Z",
     "start_time": "2020-09-21T07:54:11.422629Z"
    }
   },
   "outputs": [],
   "source": [
    "from sklearn.preprocessing import LabelEncoder\n",
    "from sklearn.model_selection import train_test_split"
   ]
  },
  {
   "cell_type": "markdown",
   "metadata": {},
   "source": [
    "## Encode categorical"
   ]
  },
  {
   "cell_type": "code",
   "execution_count": 22,
   "metadata": {
    "ExecuteTime": {
     "end_time": "2020-09-21T07:55:48.649333Z",
     "start_time": "2020-09-21T07:55:48.639773Z"
    }
   },
   "outputs": [
    {
     "data": {
      "text/plain": [
       "['iso_code', 'continent', 'location', 'date', 'tests_units']"
      ]
     },
     "execution_count": 22,
     "metadata": {},
     "output_type": "execute_result"
    }
   ],
   "source": [
    "nominal = df.select_dtypes(include=['object']).copy()\n",
    "nominal_cols = nominal.columns.tolist()\n",
    "nominal_cols"
   ]
  },
  {
   "cell_type": "code",
   "execution_count": 23,
   "metadata": {
    "ExecuteTime": {
     "end_time": "2020-09-21T07:55:48.711892Z",
     "start_time": "2020-09-21T07:55:48.652207Z"
    }
   },
   "outputs": [
    {
     "data": {
      "text/plain": [
       "'iso_code'"
      ]
     },
     "execution_count": 23,
     "metadata": {},
     "output_type": "execute_result"
    },
    {
     "data": {
      "text/plain": [
       "'continent'"
      ]
     },
     "execution_count": 23,
     "metadata": {},
     "output_type": "execute_result"
    },
    {
     "data": {
      "text/plain": [
       "'location'"
      ]
     },
     "execution_count": 23,
     "metadata": {},
     "output_type": "execute_result"
    },
    {
     "data": {
      "text/plain": [
       "'date'"
      ]
     },
     "execution_count": 23,
     "metadata": {},
     "output_type": "execute_result"
    },
    {
     "data": {
      "text/plain": [
       "'tests_units'"
      ]
     },
     "execution_count": 23,
     "metadata": {},
     "output_type": "execute_result"
    }
   ],
   "source": [
    "encoder = LabelEncoder()\n",
    "for col in nominal_cols:\n",
    "    col\n",
    "    if df[col].isna().sum() > 0:\n",
    "        df[col].fillna('MISSING', inplace=True)\n",
    "    df[col] = encoder.fit_transform(df[col])"
   ]
  },
  {
   "cell_type": "code",
   "execution_count": 24,
   "metadata": {
    "ExecuteTime": {
     "end_time": "2020-09-21T07:55:48.725788Z",
     "start_time": "2020-09-21T07:55:48.714647Z"
    }
   },
   "outputs": [
    {
     "data": {
      "text/plain": [
       "array([  1,   4,  56,   5,   2,   3,   9,   7,   8,   0,  10,  11,  12,\n",
       "        21,  20,  18,  28,  23,  14,  24,  15,  25,  30,  26,  16,  22,\n",
       "        31,  27, 215,  29,  19,  17,  13, 105,  38,  33,  44,  48,  32,\n",
       "       193,  35,  36,  42,  43,  40,  41,  45,  37,  86,  46,  47,  49,\n",
       "        50,  39,  54,  52,  53,  55,  57,  58, 178,  78,  59,  61, 188,\n",
       "        62,  67,  65,  64,  63,  66, 166,  69,  76,  71,  51,  73,  74,\n",
       "        79,  81,  80,  82,  72,  75,  77,  83,  87,  85,  84,  88,  95,\n",
       "        91,  89,  93,  94,  92,  90,  96,  97,  98, 101,  99, 100, 102,\n",
       "       103, 106, 154, 109, 104, 110, 120, 111, 117, 112, 113, 115, 118,\n",
       "       119, 121, 125, 139, 140, 126, 130, 131, 128, 136, 138, 127,  68,\n",
       "       124, 123, 134, 133, 137, 122, 135, 132, 141, 150, 149, 147, 142,\n",
       "       151, 145, 143, 144, 146, 129, 153, 148, 152, 155, 160, 165, 156,\n",
       "       161, 164, 158, 159, 157, 162, 163, 167, 168, 169, 170, 175, 107,\n",
       "       114, 213, 219, 179, 183, 171, 173, 181, 190, 177, 174, 189, 185,\n",
       "       186, 176, 180, 221, 108, 182,  60, 116, 172, 184, 187,  34, 191,\n",
       "       205, 196, 206, 195, 199, 194, 197, 200, 201, 202, 203, 198, 192,\n",
       "       204, 207, 208,   6,  70, 210, 209, 211, 217, 212, 214, 216, 218,\n",
       "       220, 222, 223])"
      ]
     },
     "execution_count": 24,
     "metadata": {},
     "output_type": "execute_result"
    },
    {
     "data": {
      "text/plain": [
       "array([1, 2, 0, 3, 5, 4])"
      ]
     },
     "execution_count": 24,
     "metadata": {},
     "output_type": "execute_result"
    },
    {
     "data": {
      "text/plain": [
       "array([  0,   1,   2,   3,   4,   5,   6,   7,   8,   9,  10,  11,  12,\n",
       "        13,  14,  15,  16,  17,  18,  19,  20,  21,  22,  23,  24,  25,\n",
       "        26,  27,  28,  29,  30,  31,  32,  33,  34,  35,  36,  37,  38,\n",
       "        39,  40,  41,  42,  43,  44,  45,  46,  47,  48,  49,  50,  51,\n",
       "        52,  53,  54,  55,  56,  57,  58,  59,  60,  61,  62,  63,  64,\n",
       "        65,  66,  67,  68,  69,  70,  71,  72,  73,  74,  75,  76,  77,\n",
       "        78,  79,  80,  81,  82,  83,  84,  85,  86,  87,  88,  89,  90,\n",
       "        91,  92,  93,  94,  95,  96,  97,  98,  99, 100, 101, 102, 103,\n",
       "       104, 105, 106, 107, 108, 109, 110, 111, 112, 113, 114, 115, 116,\n",
       "       117, 118, 119, 120, 121, 122, 123, 124, 125, 126, 127, 128, 129,\n",
       "       130, 131, 132, 133, 134, 135, 136, 137, 138, 139, 140, 141, 142,\n",
       "       143, 144, 145, 146, 147, 148, 149, 150, 151, 152, 153, 154, 155,\n",
       "       156, 157, 158, 159, 160, 161, 162, 163, 164, 165, 166, 167, 168,\n",
       "       169, 170, 171, 172, 173, 174, 175, 176, 177, 178, 179, 180, 181,\n",
       "       182, 183, 184, 185, 186, 187, 188, 189, 190, 191, 192, 193, 194,\n",
       "       195, 196, 197, 198, 199, 200, 201, 202, 203, 204, 205, 206, 207,\n",
       "       208, 209, 210, 211, 212, 213, 214, 215, 216, 217, 218, 219, 220,\n",
       "       221, 222, 223])"
      ]
     },
     "execution_count": 24,
     "metadata": {},
     "output_type": "execute_result"
    },
    {
     "data": {
      "text/plain": [
       "array([ 54,  55,  56,  57,  58,  59,  60,  61,  62,  63,  64,  65,  66,\n",
       "        67,  68,  69,  70,  71,  72,  73,  74,  75,  76,  77,  78,  79,\n",
       "        80,  81,  82,  83,  84,  85,  86,  87,  88,  89,  90,  91,  92,\n",
       "        93,  94,  95,  96,  97,  98,  99, 100, 101, 102, 103, 104, 105,\n",
       "       106, 107, 108, 109, 110, 111, 112, 113, 114, 115, 116, 117, 118,\n",
       "       119, 120, 121, 122, 123, 124, 125, 126, 127, 128, 129, 130, 131,\n",
       "       132, 133, 134, 135, 136, 137, 138, 139, 140, 141, 142, 143, 144,\n",
       "       145, 146, 147, 148, 149, 150, 151, 152, 153, 154, 155, 156, 157,\n",
       "       158, 159, 160, 161, 162, 163, 164, 165, 166, 167, 168, 169, 170,\n",
       "       171, 172, 173, 174, 175, 176, 177, 178, 179, 180, 181, 182, 183,\n",
       "       184, 185, 186, 187, 188, 189, 190, 191, 192, 193, 194, 195, 196,\n",
       "       197, 198, 199, 200, 201, 202, 203, 204, 205, 206, 207, 208, 209,\n",
       "       210, 211, 212, 213, 214, 215, 216, 217, 218, 219, 220, 221, 222,\n",
       "       223, 224, 225, 226, 227, 228, 229, 230, 231, 232, 233, 234, 235,\n",
       "       236, 237, 238, 239, 240, 241, 242, 243, 244, 245, 246, 247, 248,\n",
       "       249, 250, 251, 252, 253, 254, 255, 256, 257, 258, 259, 260, 261,\n",
       "       262, 263, 264, 265, 266, 267, 268, 269, 270, 271, 272, 273, 274,\n",
       "       275, 276, 277, 278, 279, 280, 281, 282, 283, 284, 285, 286, 287,\n",
       "       288, 289, 290, 291, 292, 293, 294, 295, 296, 297, 298, 299, 300,\n",
       "       301, 302, 303, 304, 305, 306, 307, 308, 309, 310, 311, 312, 313,\n",
       "       314, 315, 316, 317, 318, 319, 320, 321, 322, 323, 324, 325, 326,\n",
       "       327, 328, 329, 330, 331, 332, 333, 334, 335, 336, 337, 338, 339,\n",
       "       340, 341, 342, 343, 344, 345, 346, 347, 348, 349, 350, 351, 352,\n",
       "       353, 354, 355, 356, 357, 358, 359, 360, 361, 362, 363, 364, 365,\n",
       "       366, 367, 368, 369, 370, 371, 372, 373, 374, 375, 376, 377, 378,\n",
       "       379, 380, 381, 382, 383, 384, 385, 386, 387, 388, 389, 390, 391,\n",
       "       392, 393, 394, 395, 396, 397, 398, 399, 400, 401, 402, 403, 404,\n",
       "       405, 406, 407, 408, 409, 410, 411, 412, 413, 414, 415, 416, 417,\n",
       "       418, 419, 420, 421, 422, 423, 424, 425, 426, 427, 428, 429, 430,\n",
       "       431, 432, 433, 434, 435, 436, 437, 438, 439, 440, 441, 442, 443,\n",
       "       444, 445, 446, 447, 448, 449, 450, 451, 452, 453, 454, 455, 456,\n",
       "       457, 458, 459, 460, 461, 462, 463, 464, 465, 466, 467, 468, 469,\n",
       "       470, 471, 472, 473, 474, 475, 476, 477, 478, 479, 480, 481, 482,\n",
       "       483, 484, 485, 486, 487, 488, 489, 490, 491, 492, 493, 494, 495,\n",
       "       496, 497, 498, 499, 500, 501, 502, 503, 504, 505, 506, 507, 508,\n",
       "       509, 510, 511, 512, 513, 514, 515, 516, 517, 518, 519, 520, 521,\n",
       "       522, 523, 524, 525, 526, 527, 528, 529, 530, 531, 532, 533, 534,\n",
       "       535, 536, 537, 538, 539, 540, 541, 542, 543, 544, 545, 546, 547,\n",
       "       548, 549, 550, 551, 552, 553, 554, 555, 556, 557, 558, 559, 560,\n",
       "       561, 562, 563, 564, 565, 566, 567, 568, 569, 570, 571, 572, 573,\n",
       "       574, 575, 576, 577, 578, 579, 580, 581, 582, 583, 584, 585, 586,\n",
       "       587, 588, 589, 590, 591, 592, 593, 594, 595, 596, 597, 598, 599,\n",
       "       600, 601, 602, 603, 604, 605, 606, 607, 608, 609, 610, 611, 612,\n",
       "       613, 614, 615, 616, 617, 618, 619, 620, 621, 622, 623, 624, 625,\n",
       "       626, 627, 628, 629, 630, 631, 632, 633, 634, 635, 636, 637, 638,\n",
       "       639, 640, 641, 642, 643, 644, 645, 646, 647, 648, 649, 650, 651,\n",
       "       652, 653, 654, 655, 656, 657, 658, 659, 660, 661, 662,   0,   1,\n",
       "         2,   3,   4,   5,   6,   7,   8,   9,  10,  11,  12,  13,  14,\n",
       "        15,  16,  17,  18,  19,  20,  21,  22,  23,  24,  25,  26,  27,\n",
       "        28,  29,  30,  31,  32,  33,  34,  35,  36,  37,  38,  39,  40,\n",
       "        41,  42,  43,  44,  45,  46,  47,  48,  49,  50,  51,  52,  53])"
      ]
     },
     "execution_count": 24,
     "metadata": {},
     "output_type": "execute_result"
    },
    {
     "data": {
      "text/plain": [
       "array([0, 3, 1, 4, 2])"
      ]
     },
     "execution_count": 24,
     "metadata": {},
     "output_type": "execute_result"
    }
   ],
   "source": [
    "for col in nominal_cols:\n",
    "    df[col].unique()"
   ]
  },
  {
   "cell_type": "markdown",
   "metadata": {},
   "source": [
    "## Impute missing values of numerical"
   ]
  },
  {
   "cell_type": "code",
   "execution_count": 25,
   "metadata": {
    "ExecuteTime": {
     "end_time": "2020-09-21T07:55:48.769100Z",
     "start_time": "2020-09-21T07:55:48.728145Z"
    }
   },
   "outputs": [
    {
     "data": {
      "text/html": [
       "<div>\n",
       "<style scoped>\n",
       "    .dataframe tbody tr th:only-of-type {\n",
       "        vertical-align: middle;\n",
       "    }\n",
       "\n",
       "    .dataframe tbody tr th {\n",
       "        vertical-align: top;\n",
       "    }\n",
       "\n",
       "    .dataframe thead th {\n",
       "        text-align: right;\n",
       "    }\n",
       "</style>\n",
       "<table border=\"1\" class=\"dataframe\">\n",
       "  <thead>\n",
       "    <tr style=\"text-align: right;\">\n",
       "      <th></th>\n",
       "      <th>total_cases</th>\n",
       "      <th>new_cases</th>\n",
       "      <th>new_cases_smoothed</th>\n",
       "      <th>total_deaths</th>\n",
       "      <th>new_deaths</th>\n",
       "      <th>new_deaths_smoothed</th>\n",
       "      <th>total_cases_per_million</th>\n",
       "      <th>new_cases_per_million</th>\n",
       "      <th>new_cases_smoothed_per_million</th>\n",
       "      <th>total_deaths_per_million</th>\n",
       "      <th>...</th>\n",
       "      <th>aged_70_older</th>\n",
       "      <th>gdp_per_capita</th>\n",
       "      <th>extreme_poverty</th>\n",
       "      <th>cardiovasc_death_rate</th>\n",
       "      <th>diabetes_prevalence</th>\n",
       "      <th>female_smokers</th>\n",
       "      <th>male_smokers</th>\n",
       "      <th>hospital_beds_per_thousand</th>\n",
       "      <th>life_expectancy</th>\n",
       "      <th>human_development_index</th>\n",
       "    </tr>\n",
       "  </thead>\n",
       "  <tbody>\n",
       "    <tr>\n",
       "      <th>0</th>\n",
       "      <td>5.0</td>\n",
       "      <td>5.0</td>\n",
       "      <td>NaN</td>\n",
       "      <td>NaN</td>\n",
       "      <td>NaN</td>\n",
       "      <td>NaN</td>\n",
       "      <td>0.126</td>\n",
       "      <td>0.126</td>\n",
       "      <td>NaN</td>\n",
       "      <td>NaN</td>\n",
       "      <td>...</td>\n",
       "      <td>1.337</td>\n",
       "      <td>1803.987</td>\n",
       "      <td>NaN</td>\n",
       "      <td>597.029</td>\n",
       "      <td>9.59</td>\n",
       "      <td>NaN</td>\n",
       "      <td>NaN</td>\n",
       "      <td>0.5</td>\n",
       "      <td>64.83</td>\n",
       "      <td>0.511</td>\n",
       "    </tr>\n",
       "    <tr>\n",
       "      <th>1</th>\n",
       "      <td>5.0</td>\n",
       "      <td>0.0</td>\n",
       "      <td>NaN</td>\n",
       "      <td>NaN</td>\n",
       "      <td>NaN</td>\n",
       "      <td>NaN</td>\n",
       "      <td>0.126</td>\n",
       "      <td>0.000</td>\n",
       "      <td>NaN</td>\n",
       "      <td>NaN</td>\n",
       "      <td>...</td>\n",
       "      <td>1.337</td>\n",
       "      <td>1803.987</td>\n",
       "      <td>NaN</td>\n",
       "      <td>597.029</td>\n",
       "      <td>9.59</td>\n",
       "      <td>NaN</td>\n",
       "      <td>NaN</td>\n",
       "      <td>0.5</td>\n",
       "      <td>64.83</td>\n",
       "      <td>0.511</td>\n",
       "    </tr>\n",
       "    <tr>\n",
       "      <th>2</th>\n",
       "      <td>5.0</td>\n",
       "      <td>0.0</td>\n",
       "      <td>NaN</td>\n",
       "      <td>NaN</td>\n",
       "      <td>NaN</td>\n",
       "      <td>NaN</td>\n",
       "      <td>0.126</td>\n",
       "      <td>0.000</td>\n",
       "      <td>NaN</td>\n",
       "      <td>NaN</td>\n",
       "      <td>...</td>\n",
       "      <td>1.337</td>\n",
       "      <td>1803.987</td>\n",
       "      <td>NaN</td>\n",
       "      <td>597.029</td>\n",
       "      <td>9.59</td>\n",
       "      <td>NaN</td>\n",
       "      <td>NaN</td>\n",
       "      <td>0.5</td>\n",
       "      <td>64.83</td>\n",
       "      <td>0.511</td>\n",
       "    </tr>\n",
       "    <tr>\n",
       "      <th>3</th>\n",
       "      <td>5.0</td>\n",
       "      <td>0.0</td>\n",
       "      <td>NaN</td>\n",
       "      <td>NaN</td>\n",
       "      <td>NaN</td>\n",
       "      <td>NaN</td>\n",
       "      <td>0.126</td>\n",
       "      <td>0.000</td>\n",
       "      <td>NaN</td>\n",
       "      <td>NaN</td>\n",
       "      <td>...</td>\n",
       "      <td>1.337</td>\n",
       "      <td>1803.987</td>\n",
       "      <td>NaN</td>\n",
       "      <td>597.029</td>\n",
       "      <td>9.59</td>\n",
       "      <td>NaN</td>\n",
       "      <td>NaN</td>\n",
       "      <td>0.5</td>\n",
       "      <td>64.83</td>\n",
       "      <td>0.511</td>\n",
       "    </tr>\n",
       "    <tr>\n",
       "      <th>4</th>\n",
       "      <td>5.0</td>\n",
       "      <td>0.0</td>\n",
       "      <td>NaN</td>\n",
       "      <td>NaN</td>\n",
       "      <td>NaN</td>\n",
       "      <td>NaN</td>\n",
       "      <td>0.126</td>\n",
       "      <td>0.000</td>\n",
       "      <td>NaN</td>\n",
       "      <td>NaN</td>\n",
       "      <td>...</td>\n",
       "      <td>1.337</td>\n",
       "      <td>1803.987</td>\n",
       "      <td>NaN</td>\n",
       "      <td>597.029</td>\n",
       "      <td>9.59</td>\n",
       "      <td>NaN</td>\n",
       "      <td>NaN</td>\n",
       "      <td>0.5</td>\n",
       "      <td>64.83</td>\n",
       "      <td>0.511</td>\n",
       "    </tr>\n",
       "    <tr>\n",
       "      <th>...</th>\n",
       "      <td>...</td>\n",
       "      <td>...</td>\n",
       "      <td>...</td>\n",
       "      <td>...</td>\n",
       "      <td>...</td>\n",
       "      <td>...</td>\n",
       "      <td>...</td>\n",
       "      <td>...</td>\n",
       "      <td>...</td>\n",
       "      <td>...</td>\n",
       "      <td>...</td>\n",
       "      <td>...</td>\n",
       "      <td>...</td>\n",
       "      <td>...</td>\n",
       "      <td>...</td>\n",
       "      <td>...</td>\n",
       "      <td>...</td>\n",
       "      <td>...</td>\n",
       "      <td>...</td>\n",
       "      <td>...</td>\n",
       "      <td>...</td>\n",
       "    </tr>\n",
       "    <tr>\n",
       "      <th>125960</th>\n",
       "      <td>132437.0</td>\n",
       "      <td>32.0</td>\n",
       "      <td>47.000</td>\n",
       "      <td>4659.0</td>\n",
       "      <td>0.0</td>\n",
       "      <td>1.571</td>\n",
       "      <td>8775.212</td>\n",
       "      <td>2.120</td>\n",
       "      <td>3.114</td>\n",
       "      <td>308.703</td>\n",
       "      <td>...</td>\n",
       "      <td>1.882</td>\n",
       "      <td>1899.775</td>\n",
       "      <td>21.4</td>\n",
       "      <td>307.846</td>\n",
       "      <td>1.82</td>\n",
       "      <td>1.6</td>\n",
       "      <td>30.7</td>\n",
       "      <td>1.7</td>\n",
       "      <td>61.49</td>\n",
       "      <td>0.571</td>\n",
       "    </tr>\n",
       "    <tr>\n",
       "      <th>125961</th>\n",
       "      <td>132540.0</td>\n",
       "      <td>103.0</td>\n",
       "      <td>41.286</td>\n",
       "      <td>4662.0</td>\n",
       "      <td>3.0</td>\n",
       "      <td>1.000</td>\n",
       "      <td>8782.037</td>\n",
       "      <td>6.825</td>\n",
       "      <td>2.736</td>\n",
       "      <td>308.902</td>\n",
       "      <td>...</td>\n",
       "      <td>1.882</td>\n",
       "      <td>1899.775</td>\n",
       "      <td>21.4</td>\n",
       "      <td>307.846</td>\n",
       "      <td>1.82</td>\n",
       "      <td>1.6</td>\n",
       "      <td>30.7</td>\n",
       "      <td>1.7</td>\n",
       "      <td>61.49</td>\n",
       "      <td>0.571</td>\n",
       "    </tr>\n",
       "    <tr>\n",
       "      <th>125962</th>\n",
       "      <td>132588.0</td>\n",
       "      <td>48.0</td>\n",
       "      <td>43.286</td>\n",
       "      <td>4663.0</td>\n",
       "      <td>1.0</td>\n",
       "      <td>1.143</td>\n",
       "      <td>8785.217</td>\n",
       "      <td>3.180</td>\n",
       "      <td>2.868</td>\n",
       "      <td>308.968</td>\n",
       "      <td>...</td>\n",
       "      <td>1.882</td>\n",
       "      <td>1899.775</td>\n",
       "      <td>21.4</td>\n",
       "      <td>307.846</td>\n",
       "      <td>1.82</td>\n",
       "      <td>1.6</td>\n",
       "      <td>30.7</td>\n",
       "      <td>1.7</td>\n",
       "      <td>61.49</td>\n",
       "      <td>0.571</td>\n",
       "    </tr>\n",
       "    <tr>\n",
       "      <th>125963</th>\n",
       "      <td>132588.0</td>\n",
       "      <td>0.0</td>\n",
       "      <td>36.429</td>\n",
       "      <td>4663.0</td>\n",
       "      <td>0.0</td>\n",
       "      <td>0.857</td>\n",
       "      <td>8785.217</td>\n",
       "      <td>0.000</td>\n",
       "      <td>2.414</td>\n",
       "      <td>308.968</td>\n",
       "      <td>...</td>\n",
       "      <td>1.882</td>\n",
       "      <td>1899.775</td>\n",
       "      <td>21.4</td>\n",
       "      <td>307.846</td>\n",
       "      <td>1.82</td>\n",
       "      <td>1.6</td>\n",
       "      <td>30.7</td>\n",
       "      <td>1.7</td>\n",
       "      <td>61.49</td>\n",
       "      <td>0.571</td>\n",
       "    </tr>\n",
       "    <tr>\n",
       "      <th>125964</th>\n",
       "      <td>132651.0</td>\n",
       "      <td>63.0</td>\n",
       "      <td>40.429</td>\n",
       "      <td>4669.0</td>\n",
       "      <td>6.0</td>\n",
       "      <td>1.571</td>\n",
       "      <td>8789.392</td>\n",
       "      <td>4.174</td>\n",
       "      <td>2.679</td>\n",
       "      <td>309.366</td>\n",
       "      <td>...</td>\n",
       "      <td>1.882</td>\n",
       "      <td>1899.775</td>\n",
       "      <td>21.4</td>\n",
       "      <td>307.846</td>\n",
       "      <td>1.82</td>\n",
       "      <td>1.6</td>\n",
       "      <td>30.7</td>\n",
       "      <td>1.7</td>\n",
       "      <td>61.49</td>\n",
       "      <td>0.571</td>\n",
       "    </tr>\n",
       "  </tbody>\n",
       "</table>\n",
       "<p>120261 rows × 30 columns</p>\n",
       "</div>"
      ],
      "text/plain": [
       "        total_cases  new_cases  new_cases_smoothed  total_deaths  new_deaths  \\\n",
       "0               5.0        5.0                 NaN           NaN         NaN   \n",
       "1               5.0        0.0                 NaN           NaN         NaN   \n",
       "2               5.0        0.0                 NaN           NaN         NaN   \n",
       "3               5.0        0.0                 NaN           NaN         NaN   \n",
       "4               5.0        0.0                 NaN           NaN         NaN   \n",
       "...             ...        ...                 ...           ...         ...   \n",
       "125960     132437.0       32.0              47.000        4659.0         0.0   \n",
       "125961     132540.0      103.0              41.286        4662.0         3.0   \n",
       "125962     132588.0       48.0              43.286        4663.0         1.0   \n",
       "125963     132588.0        0.0              36.429        4663.0         0.0   \n",
       "125964     132651.0       63.0              40.429        4669.0         6.0   \n",
       "\n",
       "        new_deaths_smoothed  total_cases_per_million  new_cases_per_million  \\\n",
       "0                       NaN                    0.126                  0.126   \n",
       "1                       NaN                    0.126                  0.000   \n",
       "2                       NaN                    0.126                  0.000   \n",
       "3                       NaN                    0.126                  0.000   \n",
       "4                       NaN                    0.126                  0.000   \n",
       "...                     ...                      ...                    ...   \n",
       "125960                1.571                 8775.212                  2.120   \n",
       "125961                1.000                 8782.037                  6.825   \n",
       "125962                1.143                 8785.217                  3.180   \n",
       "125963                0.857                 8785.217                  0.000   \n",
       "125964                1.571                 8789.392                  4.174   \n",
       "\n",
       "        new_cases_smoothed_per_million  total_deaths_per_million  ...  \\\n",
       "0                                  NaN                       NaN  ...   \n",
       "1                                  NaN                       NaN  ...   \n",
       "2                                  NaN                       NaN  ...   \n",
       "3                                  NaN                       NaN  ...   \n",
       "4                                  NaN                       NaN  ...   \n",
       "...                                ...                       ...  ...   \n",
       "125960                           3.114                   308.703  ...   \n",
       "125961                           2.736                   308.902  ...   \n",
       "125962                           2.868                   308.968  ...   \n",
       "125963                           2.414                   308.968  ...   \n",
       "125964                           2.679                   309.366  ...   \n",
       "\n",
       "        aged_70_older  gdp_per_capita  extreme_poverty  cardiovasc_death_rate  \\\n",
       "0               1.337        1803.987              NaN                597.029   \n",
       "1               1.337        1803.987              NaN                597.029   \n",
       "2               1.337        1803.987              NaN                597.029   \n",
       "3               1.337        1803.987              NaN                597.029   \n",
       "4               1.337        1803.987              NaN                597.029   \n",
       "...               ...             ...              ...                    ...   \n",
       "125960          1.882        1899.775             21.4                307.846   \n",
       "125961          1.882        1899.775             21.4                307.846   \n",
       "125962          1.882        1899.775             21.4                307.846   \n",
       "125963          1.882        1899.775             21.4                307.846   \n",
       "125964          1.882        1899.775             21.4                307.846   \n",
       "\n",
       "        diabetes_prevalence  female_smokers  male_smokers  \\\n",
       "0                      9.59             NaN           NaN   \n",
       "1                      9.59             NaN           NaN   \n",
       "2                      9.59             NaN           NaN   \n",
       "3                      9.59             NaN           NaN   \n",
       "4                      9.59             NaN           NaN   \n",
       "...                     ...             ...           ...   \n",
       "125960                 1.82             1.6          30.7   \n",
       "125961                 1.82             1.6          30.7   \n",
       "125962                 1.82             1.6          30.7   \n",
       "125963                 1.82             1.6          30.7   \n",
       "125964                 1.82             1.6          30.7   \n",
       "\n",
       "        hospital_beds_per_thousand  life_expectancy  human_development_index  \n",
       "0                              0.5            64.83                    0.511  \n",
       "1                              0.5            64.83                    0.511  \n",
       "2                              0.5            64.83                    0.511  \n",
       "3                              0.5            64.83                    0.511  \n",
       "4                              0.5            64.83                    0.511  \n",
       "...                            ...              ...                      ...  \n",
       "125960                         1.7            61.49                    0.571  \n",
       "125961                         1.7            61.49                    0.571  \n",
       "125962                         1.7            61.49                    0.571  \n",
       "125963                         1.7            61.49                    0.571  \n",
       "125964                         1.7            61.49                    0.571  \n",
       "\n",
       "[120261 rows x 30 columns]"
      ]
     },
     "execution_count": 25,
     "metadata": {},
     "output_type": "execute_result"
    }
   ],
   "source": [
    "numerical = df.select_dtypes(include=['float64']).copy()\n",
    "numerical"
   ]
  },
  {
   "cell_type": "code",
   "execution_count": 26,
   "metadata": {
    "ExecuteTime": {
     "end_time": "2020-09-21T07:55:48.776354Z",
     "start_time": "2020-09-21T07:55:48.771428Z"
    }
   },
   "outputs": [
    {
     "data": {
      "text/plain": [
       "0              5.0\n",
       "1              5.0\n",
       "2              5.0\n",
       "3              5.0\n",
       "4              5.0\n",
       "            ...   \n",
       "125960    132437.0\n",
       "125961    132540.0\n",
       "125962    132588.0\n",
       "125963    132588.0\n",
       "125964    132651.0\n",
       "Name: total_cases, Length: 120261, dtype: float64"
      ]
     },
     "execution_count": 26,
     "metadata": {},
     "output_type": "execute_result"
    }
   ],
   "source": [
    "df.total_cases"
   ]
  },
  {
   "cell_type": "code",
   "execution_count": 27,
   "metadata": {
    "ExecuteTime": {
     "end_time": "2020-09-21T07:55:48.798540Z",
     "start_time": "2020-09-21T07:55:48.778373Z"
    }
   },
   "outputs": [],
   "source": [
    "for col in numerical:\n",
    "    df[col].fillna((df[col].mean()), inplace=True)"
   ]
  },
  {
   "cell_type": "code",
   "execution_count": 28,
   "metadata": {
    "ExecuteTime": {
     "end_time": "2020-09-21T07:55:48.808680Z",
     "start_time": "2020-09-21T07:55:48.800456Z"
    }
   },
   "outputs": [
    {
     "data": {
      "text/plain": [
       "True"
      ]
     },
     "execution_count": 28,
     "metadata": {},
     "output_type": "execute_result"
    }
   ],
   "source": [
    "df.isna().sum().sum() == 0"
   ]
  },
  {
   "cell_type": "markdown",
   "metadata": {},
   "source": [
    "Now the dataset has no Nans and is completely encoded."
   ]
  },
  {
   "cell_type": "markdown",
   "metadata": {},
   "source": [
    "## Split into train and test set"
   ]
  },
  {
   "cell_type": "code",
   "execution_count": 29,
   "metadata": {
    "ExecuteTime": {
     "end_time": "2020-09-21T07:55:48.832173Z",
     "start_time": "2020-09-21T07:55:48.812526Z"
    }
   },
   "outputs": [],
   "source": [
    "X = df.drop(columns=['new_cases'])\n",
    "y = df.new_cases\n",
    "X_train, X_test, y_train, y_test = train_test_split(X, y, test_size=0.30, random_state=0)"
   ]
  },
  {
   "cell_type": "code",
   "execution_count": 30,
   "metadata": {
    "ExecuteTime": {
     "end_time": "2020-09-21T07:55:48.889220Z",
     "start_time": "2020-09-21T07:55:48.835448Z"
    }
   },
   "outputs": [
    {
     "data": {
      "text/html": [
       "<div>\n",
       "<style scoped>\n",
       "    .dataframe tbody tr th:only-of-type {\n",
       "        vertical-align: middle;\n",
       "    }\n",
       "\n",
       "    .dataframe tbody tr th {\n",
       "        vertical-align: top;\n",
       "    }\n",
       "\n",
       "    .dataframe thead th {\n",
       "        text-align: right;\n",
       "    }\n",
       "</style>\n",
       "<table border=\"1\" class=\"dataframe\">\n",
       "  <thead>\n",
       "    <tr style=\"text-align: right;\">\n",
       "      <th></th>\n",
       "      <th>iso_code</th>\n",
       "      <th>continent</th>\n",
       "      <th>location</th>\n",
       "      <th>date</th>\n",
       "      <th>total_cases</th>\n",
       "      <th>new_cases_smoothed</th>\n",
       "      <th>total_deaths</th>\n",
       "      <th>new_deaths</th>\n",
       "      <th>new_deaths_smoothed</th>\n",
       "      <th>total_cases_per_million</th>\n",
       "      <th>...</th>\n",
       "      <th>aged_70_older</th>\n",
       "      <th>gdp_per_capita</th>\n",
       "      <th>extreme_poverty</th>\n",
       "      <th>cardiovasc_death_rate</th>\n",
       "      <th>diabetes_prevalence</th>\n",
       "      <th>female_smokers</th>\n",
       "      <th>male_smokers</th>\n",
       "      <th>hospital_beds_per_thousand</th>\n",
       "      <th>life_expectancy</th>\n",
       "      <th>human_development_index</th>\n",
       "    </tr>\n",
       "  </thead>\n",
       "  <tbody>\n",
       "    <tr>\n",
       "      <th>23474</th>\n",
       "      <td>35</td>\n",
       "      <td>5</td>\n",
       "      <td>40</td>\n",
       "      <td>464</td>\n",
       "      <td>1060421.0</td>\n",
       "      <td>6990.857</td>\n",
       "      <td>24108.000000</td>\n",
       "      <td>129.000000</td>\n",
       "      <td>98.143</td>\n",
       "      <td>55194.723</td>\n",
       "      <td>...</td>\n",
       "      <td>6.938</td>\n",
       "      <td>22767.037</td>\n",
       "      <td>1.300000</td>\n",
       "      <td>127.993</td>\n",
       "      <td>8.46</td>\n",
       "      <td>34.200000</td>\n",
       "      <td>41.500000</td>\n",
       "      <td>2.110</td>\n",
       "      <td>80.18</td>\n",
       "      <td>0.851</td>\n",
       "    </tr>\n",
       "    <tr>\n",
       "      <th>11557</th>\n",
       "      <td>14</td>\n",
       "      <td>2</td>\n",
       "      <td>18</td>\n",
       "      <td>160</td>\n",
       "      <td>59437.0</td>\n",
       "      <td>117.429</td>\n",
       "      <td>9619.000000</td>\n",
       "      <td>13.000000</td>\n",
       "      <td>16.286</td>\n",
       "      <td>5109.637</td>\n",
       "      <td>...</td>\n",
       "      <td>12.849</td>\n",
       "      <td>42658.576</td>\n",
       "      <td>0.200000</td>\n",
       "      <td>114.898</td>\n",
       "      <td>4.29</td>\n",
       "      <td>25.100000</td>\n",
       "      <td>31.400000</td>\n",
       "      <td>5.640</td>\n",
       "      <td>81.63</td>\n",
       "      <td>0.931</td>\n",
       "    </tr>\n",
       "    <tr>\n",
       "      <th>89908</th>\n",
       "      <td>158</td>\n",
       "      <td>5</td>\n",
       "      <td>158</td>\n",
       "      <td>367</td>\n",
       "      <td>1015137.0</td>\n",
       "      <td>1370.143</td>\n",
       "      <td>93377.000000</td>\n",
       "      <td>146.000000</td>\n",
       "      <td>146.429</td>\n",
       "      <td>30430.300</td>\n",
       "      <td>...</td>\n",
       "      <td>4.455</td>\n",
       "      <td>12236.706</td>\n",
       "      <td>3.500000</td>\n",
       "      <td>85.755</td>\n",
       "      <td>5.95</td>\n",
       "      <td>4.800000</td>\n",
       "      <td>32.729212</td>\n",
       "      <td>1.600</td>\n",
       "      <td>76.74</td>\n",
       "      <td>0.777</td>\n",
       "    </tr>\n",
       "    <tr>\n",
       "      <th>36230</th>\n",
       "      <td>61</td>\n",
       "      <td>2</td>\n",
       "      <td>63</td>\n",
       "      <td>291</td>\n",
       "      <td>4078.0</td>\n",
       "      <td>30.429</td>\n",
       "      <td>68.000000</td>\n",
       "      <td>0.000000</td>\n",
       "      <td>0.000</td>\n",
       "      <td>3077.299</td>\n",
       "      <td>...</td>\n",
       "      <td>13.491</td>\n",
       "      <td>29481.252</td>\n",
       "      <td>0.500000</td>\n",
       "      <td>255.569</td>\n",
       "      <td>4.02</td>\n",
       "      <td>24.500000</td>\n",
       "      <td>39.300000</td>\n",
       "      <td>4.690</td>\n",
       "      <td>78.74</td>\n",
       "      <td>0.892</td>\n",
       "    </tr>\n",
       "    <tr>\n",
       "      <th>101746</th>\n",
       "      <td>185</td>\n",
       "      <td>2</td>\n",
       "      <td>181</td>\n",
       "      <td>90</td>\n",
       "      <td>363.0</td>\n",
       "      <td>22.714</td>\n",
       "      <td>12536.313048</td>\n",
       "      <td>48.027542</td>\n",
       "      <td>0.000</td>\n",
       "      <td>66.475</td>\n",
       "      <td>...</td>\n",
       "      <td>9.167</td>\n",
       "      <td>30155.152</td>\n",
       "      <td>0.700000</td>\n",
       "      <td>287.959</td>\n",
       "      <td>7.29</td>\n",
       "      <td>23.100000</td>\n",
       "      <td>37.700000</td>\n",
       "      <td>5.820</td>\n",
       "      <td>77.54</td>\n",
       "      <td>0.860</td>\n",
       "    </tr>\n",
       "    <tr>\n",
       "      <th>...</th>\n",
       "      <td>...</td>\n",
       "      <td>...</td>\n",
       "      <td>...</td>\n",
       "      <td>...</td>\n",
       "      <td>...</td>\n",
       "      <td>...</td>\n",
       "      <td>...</td>\n",
       "      <td>...</td>\n",
       "      <td>...</td>\n",
       "      <td>...</td>\n",
       "      <td>...</td>\n",
       "      <td>...</td>\n",
       "      <td>...</td>\n",
       "      <td>...</td>\n",
       "      <td>...</td>\n",
       "      <td>...</td>\n",
       "      <td>...</td>\n",
       "      <td>...</td>\n",
       "      <td>...</td>\n",
       "      <td>...</td>\n",
       "      <td>...</td>\n",
       "    </tr>\n",
       "    <tr>\n",
       "      <th>48435</th>\n",
       "      <td>83</td>\n",
       "      <td>5</td>\n",
       "      <td>85</td>\n",
       "      <td>123</td>\n",
       "      <td>82.0</td>\n",
       "      <td>1.143</td>\n",
       "      <td>9.000000</td>\n",
       "      <td>0.000000</td>\n",
       "      <td>0.143</td>\n",
       "      <td>103.754</td>\n",
       "      <td>...</td>\n",
       "      <td>2.837</td>\n",
       "      <td>7435.047</td>\n",
       "      <td>13.529952</td>\n",
       "      <td>373.159</td>\n",
       "      <td>11.62</td>\n",
       "      <td>10.622658</td>\n",
       "      <td>32.729212</td>\n",
       "      <td>1.600</td>\n",
       "      <td>69.91</td>\n",
       "      <td>0.682</td>\n",
       "    </tr>\n",
       "    <tr>\n",
       "      <th>123014</th>\n",
       "      <td>216</td>\n",
       "      <td>1</td>\n",
       "      <td>219</td>\n",
       "      <td>297</td>\n",
       "      <td>1160.0</td>\n",
       "      <td>4.857</td>\n",
       "      <td>35.000000</td>\n",
       "      <td>0.000000</td>\n",
       "      <td>0.000</td>\n",
       "      <td>11.816</td>\n",
       "      <td>...</td>\n",
       "      <td>4.718</td>\n",
       "      <td>6171.884</td>\n",
       "      <td>2.000000</td>\n",
       "      <td>245.465</td>\n",
       "      <td>6.00</td>\n",
       "      <td>1.000000</td>\n",
       "      <td>45.900000</td>\n",
       "      <td>2.600</td>\n",
       "      <td>75.40</td>\n",
       "      <td>0.704</td>\n",
       "    </tr>\n",
       "    <tr>\n",
       "      <th>45157</th>\n",
       "      <td>79</td>\n",
       "      <td>2</td>\n",
       "      <td>78</td>\n",
       "      <td>341</td>\n",
       "      <td>116721.0</td>\n",
       "      <td>1635.714</td>\n",
       "      <td>3092.000000</td>\n",
       "      <td>89.000000</td>\n",
       "      <td>98.000</td>\n",
       "      <td>11254.831</td>\n",
       "      <td>...</td>\n",
       "      <td>14.524</td>\n",
       "      <td>24574.382</td>\n",
       "      <td>1.500000</td>\n",
       "      <td>175.695</td>\n",
       "      <td>4.55</td>\n",
       "      <td>35.300000</td>\n",
       "      <td>52.000000</td>\n",
       "      <td>4.210</td>\n",
       "      <td>82.24</td>\n",
       "      <td>0.888</td>\n",
       "    </tr>\n",
       "    <tr>\n",
       "      <th>46111</th>\n",
       "      <td>80</td>\n",
       "      <td>3</td>\n",
       "      <td>80</td>\n",
       "      <td>445</td>\n",
       "      <td>154.0</td>\n",
       "      <td>0.857</td>\n",
       "      <td>1.000000</td>\n",
       "      <td>0.000000</td>\n",
       "      <td>0.000</td>\n",
       "      <td>1362.651</td>\n",
       "      <td>...</td>\n",
       "      <td>5.021</td>\n",
       "      <td>13593.877</td>\n",
       "      <td>13.529952</td>\n",
       "      <td>243.964</td>\n",
       "      <td>10.71</td>\n",
       "      <td>10.622658</td>\n",
       "      <td>32.729212</td>\n",
       "      <td>3.700</td>\n",
       "      <td>72.40</td>\n",
       "      <td>0.779</td>\n",
       "    </tr>\n",
       "    <tr>\n",
       "      <th>71438</th>\n",
       "      <td>131</td>\n",
       "      <td>2</td>\n",
       "      <td>124</td>\n",
       "      <td>542</td>\n",
       "      <td>30606.0</td>\n",
       "      <td>2.571</td>\n",
       "      <td>420.000000</td>\n",
       "      <td>0.000000</td>\n",
       "      <td>0.000</td>\n",
       "      <td>59479.482</td>\n",
       "      <td>...</td>\n",
       "      <td>11.324</td>\n",
       "      <td>36513.323</td>\n",
       "      <td>0.200000</td>\n",
       "      <td>168.711</td>\n",
       "      <td>8.83</td>\n",
       "      <td>20.900000</td>\n",
       "      <td>30.200000</td>\n",
       "      <td>4.485</td>\n",
       "      <td>82.53</td>\n",
       "      <td>0.895</td>\n",
       "    </tr>\n",
       "  </tbody>\n",
       "</table>\n",
       "<p>84182 rows × 34 columns</p>\n",
       "</div>"
      ],
      "text/plain": [
       "        iso_code  continent  location  date  total_cases  new_cases_smoothed  \\\n",
       "23474         35          5        40   464    1060421.0            6990.857   \n",
       "11557         14          2        18   160      59437.0             117.429   \n",
       "89908        158          5       158   367    1015137.0            1370.143   \n",
       "36230         61          2        63   291       4078.0              30.429   \n",
       "101746       185          2       181    90        363.0              22.714   \n",
       "...          ...        ...       ...   ...          ...                 ...   \n",
       "48435         83          5        85   123         82.0               1.143   \n",
       "123014       216          1       219   297       1160.0               4.857   \n",
       "45157         79          2        78   341     116721.0            1635.714   \n",
       "46111         80          3        80   445        154.0               0.857   \n",
       "71438        131          2       124   542      30606.0               2.571   \n",
       "\n",
       "        total_deaths  new_deaths  new_deaths_smoothed  \\\n",
       "23474   24108.000000  129.000000               98.143   \n",
       "11557    9619.000000   13.000000               16.286   \n",
       "89908   93377.000000  146.000000              146.429   \n",
       "36230      68.000000    0.000000                0.000   \n",
       "101746  12536.313048   48.027542                0.000   \n",
       "...              ...         ...                  ...   \n",
       "48435       9.000000    0.000000                0.143   \n",
       "123014     35.000000    0.000000                0.000   \n",
       "45157    3092.000000   89.000000               98.000   \n",
       "46111       1.000000    0.000000                0.000   \n",
       "71438     420.000000    0.000000                0.000   \n",
       "\n",
       "        total_cases_per_million  ...  aged_70_older  gdp_per_capita  \\\n",
       "23474                 55194.723  ...          6.938       22767.037   \n",
       "11557                  5109.637  ...         12.849       42658.576   \n",
       "89908                 30430.300  ...          4.455       12236.706   \n",
       "36230                  3077.299  ...         13.491       29481.252   \n",
       "101746                   66.475  ...          9.167       30155.152   \n",
       "...                         ...  ...            ...             ...   \n",
       "48435                   103.754  ...          2.837        7435.047   \n",
       "123014                   11.816  ...          4.718        6171.884   \n",
       "45157                 11254.831  ...         14.524       24574.382   \n",
       "46111                  1362.651  ...          5.021       13593.877   \n",
       "71438                 59479.482  ...         11.324       36513.323   \n",
       "\n",
       "        extreme_poverty  cardiovasc_death_rate  diabetes_prevalence  \\\n",
       "23474          1.300000                127.993                 8.46   \n",
       "11557          0.200000                114.898                 4.29   \n",
       "89908          3.500000                 85.755                 5.95   \n",
       "36230          0.500000                255.569                 4.02   \n",
       "101746         0.700000                287.959                 7.29   \n",
       "...                 ...                    ...                  ...   \n",
       "48435         13.529952                373.159                11.62   \n",
       "123014         2.000000                245.465                 6.00   \n",
       "45157          1.500000                175.695                 4.55   \n",
       "46111         13.529952                243.964                10.71   \n",
       "71438          0.200000                168.711                 8.83   \n",
       "\n",
       "        female_smokers  male_smokers  hospital_beds_per_thousand  \\\n",
       "23474        34.200000     41.500000                       2.110   \n",
       "11557        25.100000     31.400000                       5.640   \n",
       "89908         4.800000     32.729212                       1.600   \n",
       "36230        24.500000     39.300000                       4.690   \n",
       "101746       23.100000     37.700000                       5.820   \n",
       "...                ...           ...                         ...   \n",
       "48435        10.622658     32.729212                       1.600   \n",
       "123014        1.000000     45.900000                       2.600   \n",
       "45157        35.300000     52.000000                       4.210   \n",
       "46111        10.622658     32.729212                       3.700   \n",
       "71438        20.900000     30.200000                       4.485   \n",
       "\n",
       "        life_expectancy  human_development_index  \n",
       "23474             80.18                    0.851  \n",
       "11557             81.63                    0.931  \n",
       "89908             76.74                    0.777  \n",
       "36230             78.74                    0.892  \n",
       "101746            77.54                    0.860  \n",
       "...                 ...                      ...  \n",
       "48435             69.91                    0.682  \n",
       "123014            75.40                    0.704  \n",
       "45157             82.24                    0.888  \n",
       "46111             72.40                    0.779  \n",
       "71438             82.53                    0.895  \n",
       "\n",
       "[84182 rows x 34 columns]"
      ]
     },
     "execution_count": 30,
     "metadata": {},
     "output_type": "execute_result"
    }
   ],
   "source": [
    "X_train"
   ]
  },
  {
   "cell_type": "markdown",
   "metadata": {},
   "source": [
    "# Add ML"
   ]
  },
  {
   "cell_type": "code",
   "execution_count": 31,
   "metadata": {
    "ExecuteTime": {
     "end_time": "2020-09-21T07:55:49.155519Z",
     "start_time": "2020-09-21T07:55:48.892544Z"
    }
   },
   "outputs": [],
   "source": [
    "from sklearn.ensemble import RandomForestRegressor\n",
    "from sklearn.metrics import r2_score \n",
    "from sklearn.model_selection import RandomizedSearchCV\n",
    "from joblib import dump, load"
   ]
  },
  {
   "cell_type": "code",
   "execution_count": 32,
   "metadata": {
    "ExecuteTime": {
     "end_time": "2020-09-22T14:23:49.455201Z",
     "start_time": "2020-09-22T14:23:49.439565Z"
    }
   },
   "outputs": [],
   "source": [
    "rf = RandomForestRegressor(\n",
    "    n_estimators = 100, # 400 \n",
    "    random_state = 0, \n",
    "    max_depth=30)"
   ]
  },
  {
   "cell_type": "code",
   "execution_count": 33,
   "metadata": {
    "ExecuteTime": {
     "end_time": "2020-09-22T14:24:32.555970Z",
     "start_time": "2020-09-22T14:23:49.970968Z"
    }
   },
   "outputs": [
    {
     "data": {
      "text/plain": [
       "RandomForestRegressor(max_depth=30, random_state=0)"
      ]
     },
     "execution_count": 33,
     "metadata": {},
     "output_type": "execute_result"
    }
   ],
   "source": [
    "rf.fit(X_train, y_train)"
   ]
  },
  {
   "cell_type": "code",
   "execution_count": 34,
   "metadata": {
    "ExecuteTime": {
     "end_time": "2020-09-22T14:24:33.083436Z",
     "start_time": "2020-09-22T14:24:32.558571Z"
    }
   },
   "outputs": [],
   "source": [
    "y_pred = rf.predict(X_test)"
   ]
  },
  {
   "cell_type": "code",
   "execution_count": 35,
   "metadata": {
    "ExecuteTime": {
     "end_time": "2020-09-22T14:24:33.107263Z",
     "start_time": "2020-09-22T14:24:33.086702Z"
    }
   },
   "outputs": [
    {
     "name": "stdout",
     "output_type": "stream",
     "text": [
      "98.80%\n"
     ]
    }
   ],
   "source": [
    "print(f'{r2_score(y_test, y_pred):.2%}')"
   ]
  },
  {
   "cell_type": "markdown",
   "metadata": {},
   "source": [
    "## Improve hyperparameters\n",
    "\n",
    "Best params for n_estimators and max_depth are\n",
    "\n",
    "`{'n_estimators': 400, 'max_depth': 30}`"
   ]
  },
  {
   "cell_type": "code",
   "execution_count": 36,
   "metadata": {
    "ExecuteTime": {
     "end_time": "2020-09-22T14:24:33.116533Z",
     "start_time": "2020-09-22T14:24:33.109859Z"
    }
   },
   "outputs": [],
   "source": [
    "random_grid = {'n_estimators': np.arange(200,600,100),\n",
    "#                'max_features': ['auto', 'sqrt'],\n",
    "               'max_depth': np.arange(10,40,10)}\n",
    "#                'min_samples_split': [2, 5],\n",
    "#                'min_samples_leaf': [2,4]}#,\n",
    "#                'bootstrap': [True, False]}"
   ]
  },
  {
   "cell_type": "code",
   "execution_count": 37,
   "metadata": {
    "ExecuteTime": {
     "end_time": "2020-09-22T08:53:18.913223Z",
     "start_time": "2020-09-22T08:53:18.908832Z"
    }
   },
   "outputs": [],
   "source": [
    "rf_random = RandomizedSearchCV(\n",
    "    estimator = rf, \n",
    "    param_distributions = random_grid, \n",
    "    n_iter = 100, cv = 3, verbose=2, random_state=0)"
   ]
  },
  {
   "cell_type": "code",
   "execution_count": 38,
   "metadata": {
    "ExecuteTime": {
     "end_time": "2020-09-22T09:42:27.222348Z",
     "start_time": "2020-09-22T08:53:19.235274Z"
    }
   },
   "outputs": [],
   "source": [
    "# rf_random.fit(X_train, y_train)"
   ]
  },
  {
   "cell_type": "code",
   "execution_count": 39,
   "metadata": {
    "ExecuteTime": {
     "end_time": "2020-09-22T09:42:27.243502Z",
     "start_time": "2020-09-22T09:42:27.226607Z"
    }
   },
   "outputs": [],
   "source": [
    "# rf_random.best_params_"
   ]
  },
  {
   "cell_type": "markdown",
   "metadata": {},
   "source": [
    "## Re-run "
   ]
  },
  {
   "cell_type": "code",
   "execution_count": 40,
   "metadata": {
    "ExecuteTime": {
     "end_time": "2020-09-21T07:57:21.449819Z",
     "start_time": "2020-09-21T07:57:21.446652Z"
    }
   },
   "outputs": [],
   "source": [
    "# rf = RandomForestRegressor(**rf_random.best_params_, random_state = 1)"
   ]
  },
  {
   "cell_type": "code",
   "execution_count": 41,
   "metadata": {
    "ExecuteTime": {
     "end_time": "2020-09-21T07:57:21.457559Z",
     "start_time": "2020-09-21T07:57:21.453531Z"
    }
   },
   "outputs": [],
   "source": [
    "# y_pred = rf.predict(X_test)"
   ]
  },
  {
   "cell_type": "code",
   "execution_count": 42,
   "metadata": {
    "ExecuteTime": {
     "end_time": "2020-09-21T07:57:21.465621Z",
     "start_time": "2020-09-21T07:57:21.462612Z"
    }
   },
   "outputs": [],
   "source": [
    "# print(f'{r2_score(y_test, y_pred):.2%}')"
   ]
  },
  {
   "cell_type": "markdown",
   "metadata": {},
   "source": [
    "# Save model"
   ]
  },
  {
   "cell_type": "code",
   "execution_count": 53,
   "metadata": {},
   "outputs": [
    {
     "data": {
      "text/plain": [
       "['model.joblib']"
      ]
     },
     "execution_count": 53,
     "metadata": {},
     "output_type": "execute_result"
    },
    {
     "data": {
      "text/plain": [
       "RandomForestRegressor(max_depth=30, random_state=0)"
      ]
     },
     "execution_count": 53,
     "metadata": {},
     "output_type": "execute_result"
    }
   ],
   "source": [
    "dump(rf, \"model.joblib\")"
   ]
  },
  {
   "cell_type": "markdown",
   "metadata": {},
   "source": [
    "# Predict on country"
   ]
  },
  {
   "cell_type": "code",
   "execution_count": null,
   "metadata": {
    "ExecuteTime": {
     "end_time": "2020-09-21T07:57:23.414757Z",
     "start_time": "2020-09-21T07:57:23.408950Z"
    }
   },
   "outputs": [],
   "source": [
    "input_val = 'Germany'"
   ]
  },
  {
   "cell_type": "code",
   "execution_count": null,
   "metadata": {
    "ExecuteTime": {
     "end_time": "2020-09-21T07:57:23.438015Z",
     "start_time": "2020-09-21T07:57:23.420489Z"
    }
   },
   "outputs": [],
   "source": [
    "encoder.fit_transform(df_orig['location'])"
   ]
  },
  {
   "cell_type": "code",
   "execution_count": null,
   "metadata": {
    "ExecuteTime": {
     "end_time": "2020-09-21T07:57:23.444702Z",
     "start_time": "2020-09-21T07:57:23.440620Z"
    }
   },
   "outputs": [],
   "source": [
    "encode_ind = (encoder.classes_).tolist().index(input_val)"
   ]
  },
  {
   "cell_type": "code",
   "execution_count": null,
   "metadata": {
    "ExecuteTime": {
     "end_time": "2020-09-21T07:57:23.510774Z",
     "start_time": "2020-09-21T07:57:23.449155Z"
    }
   },
   "outputs": [],
   "source": [
    "df_orig[df_orig.location == input_val]"
   ]
  },
  {
   "cell_type": "code",
   "execution_count": null,
   "metadata": {
    "ExecuteTime": {
     "end_time": "2020-09-21T07:57:23.522582Z",
     "start_time": "2020-09-21T07:57:23.512950Z"
    }
   },
   "outputs": [],
   "source": [
    "to_pred = X[X.location == encode_ind].iloc[-1].values.reshape(1,-1)"
   ]
  },
  {
   "cell_type": "code",
   "execution_count": null,
   "metadata": {
    "ExecuteTime": {
     "end_time": "2020-09-21T07:57:23.543155Z",
     "start_time": "2020-09-21T07:57:23.525128Z"
    }
   },
   "outputs": [],
   "source": [
    "rf.predict(to_pred)[0]"
   ]
  },
  {
   "cell_type": "code",
   "execution_count": null,
   "metadata": {},
   "outputs": [],
   "source": []
  }
 ],
 "metadata": {
  "hide_input": false,
  "kernelspec": {
   "display_name": "Python 3 (ipykernel)",
   "language": "python",
   "name": "python3"
  },
  "language_info": {
   "codemirror_mode": {
    "name": "ipython",
    "version": 3
   },
   "file_extension": ".py",
   "mimetype": "text/x-python",
   "name": "python",
   "nbconvert_exporter": "python",
   "pygments_lexer": "ipython3",
   "version": "3.7.11"
  },
  "toc": {
   "base_numbering": 1,
   "nav_menu": {},
   "number_sections": true,
   "sideBar": true,
   "skip_h1_title": false,
   "title_cell": "Table of Contents",
   "title_sidebar": "Contents",
   "toc_cell": false,
   "toc_position": {
    "height": "calc(100% - 180px)",
    "left": "10px",
    "top": "150px",
    "width": "336px"
   },
   "toc_section_display": true,
   "toc_window_display": true
  }
 },
 "nbformat": 4,
 "nbformat_minor": 4
}
